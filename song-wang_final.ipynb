{
 "cells": [
  {
   "cell_type": "markdown",
   "metadata": {},
   "source": [
    "# MAT003 Introduction to machine learning Group Project"
   ]
  },
  {
   "cell_type": "markdown",
   "metadata": {},
   "source": [
    "#### Group 4   \n",
    "members: Xiao'ao Song(18-747-949)  Weiyi Wang(19-764-786)"
   ]
  },
  {
   "cell_type": "markdown",
   "metadata": {},
   "source": [
    "## Import packages"
   ]
  },
  {
   "cell_type": "code",
   "execution_count": 2,
   "metadata": {},
   "outputs": [],
   "source": [
    "import pandas as pd\n",
    "import numpy as np\n",
    "import numpy\n",
    "import math\n",
    "import time\n",
    "from math import floor\n",
    "import operator\n",
    "import matplotlib.pyplot as plt\n",
    "from operator import itemgetter\n",
    "%matplotlib inline\n",
    "from sklearn.preprocessing import LabelEncoder\n",
    "# from sklearn.neural_network import MLPClassifier\n",
    "# from sklearn.model_selection import cross_val_score\n",
    "from sklearn import svm\n",
    "#from sklearn.svm import SVC\n",
    "from sklearn.preprocessing import StandardScaler\n",
    "from collections import Counter\n",
    "from sklearn.model_selection import KFold\n",
    "# from sklearn.utils import class_weight\n",
    "\n",
    "# np.random.seed(seed=167)\n",
    "import warnings\n",
    "warnings.filterwarnings(\"ignore\")"
   ]
  },
  {
   "cell_type": "markdown",
   "metadata": {},
   "source": [
    "## Load dataset"
   ]
  },
  {
   "cell_type": "code",
   "execution_count": 3,
   "metadata": {},
   "outputs": [],
   "source": [
    "data_set = pd.read_csv('/Users/wwyvette/Desktop/ML/exam/dataset4.csv',header=0,index_col = None,sep=';')"
   ]
  },
  {
   "cell_type": "markdown",
   "metadata": {},
   "source": [
    "## Dataset description and analysis\n",
    "After loading the data set, we first have a rough check on the data set."
   ]
  },
  {
   "cell_type": "code",
   "execution_count": 4,
   "metadata": {
    "scrolled": true
   },
   "outputs": [
    {
     "data": {
      "text/html": [
       "<div>\n",
       "<style scoped>\n",
       "    .dataframe tbody tr th:only-of-type {\n",
       "        vertical-align: middle;\n",
       "    }\n",
       "\n",
       "    .dataframe tbody tr th {\n",
       "        vertical-align: top;\n",
       "    }\n",
       "\n",
       "    .dataframe thead th {\n",
       "        text-align: right;\n",
       "    }\n",
       "</style>\n",
       "<table border=\"1\" class=\"dataframe\">\n",
       "  <thead>\n",
       "    <tr style=\"text-align: right;\">\n",
       "      <th></th>\n",
       "      <th>radio_play</th>\n",
       "      <th>tonality</th>\n",
       "      <th>ratings</th>\n",
       "      <th>albums_sold</th>\n",
       "      <th>loudness</th>\n",
       "      <th>tempo</th>\n",
       "      <th>song_id</th>\n",
       "      <th>vocals</th>\n",
       "      <th>listen_count</th>\n",
       "      <th>length</th>\n",
       "      <th>instr</th>\n",
       "      <th>frequency</th>\n",
       "      <th>year</th>\n",
       "      <th>class</th>\n",
       "    </tr>\n",
       "  </thead>\n",
       "  <tbody>\n",
       "    <tr>\n",
       "      <th>0</th>\n",
       "      <td>3.214737</td>\n",
       "      <td>minor</td>\n",
       "      <td>medium</td>\n",
       "      <td>1.808823</td>\n",
       "      <td>0.495750</td>\n",
       "      <td>44.219950</td>\n",
       "      <td>YR42138</td>\n",
       "      <td>0.542255</td>\n",
       "      <td>14.651154</td>\n",
       "      <td>0.754471</td>\n",
       "      <td>2.004861</td>\n",
       "      <td>8.895517</td>\n",
       "      <td>14.124177</td>\n",
       "      <td>1</td>\n",
       "    </tr>\n",
       "    <tr>\n",
       "      <th>1</th>\n",
       "      <td>2.714995</td>\n",
       "      <td>major</td>\n",
       "      <td>medium</td>\n",
       "      <td>2.570554</td>\n",
       "      <td>1.179683</td>\n",
       "      <td>89.727501</td>\n",
       "      <td>YR20543</td>\n",
       "      <td>0.286127</td>\n",
       "      <td>21.862053</td>\n",
       "      <td>3.257507</td>\n",
       "      <td>2.342440</td>\n",
       "      <td>1.410923</td>\n",
       "      <td>13.088463</td>\n",
       "      <td>0</td>\n",
       "    </tr>\n",
       "    <tr>\n",
       "      <th>2</th>\n",
       "      <td>3.344488</td>\n",
       "      <td>atonal</td>\n",
       "      <td>medium</td>\n",
       "      <td>2.539966</td>\n",
       "      <td>0.878841</td>\n",
       "      <td>98.620555</td>\n",
       "      <td>YR38837</td>\n",
       "      <td>0.318834</td>\n",
       "      <td>15.068252</td>\n",
       "      <td>0.501357</td>\n",
       "      <td>2.563865</td>\n",
       "      <td>3.069557</td>\n",
       "      <td>12.353221</td>\n",
       "      <td>2</td>\n",
       "    </tr>\n",
       "  </tbody>\n",
       "</table>\n",
       "</div>"
      ],
      "text/plain": [
       "   radio_play tonality ratings  albums_sold  loudness      tempo  song_id  \\\n",
       "0    3.214737    minor  medium     1.808823  0.495750  44.219950  YR42138   \n",
       "1    2.714995    major  medium     2.570554  1.179683  89.727501  YR20543   \n",
       "2    3.344488   atonal  medium     2.539966  0.878841  98.620555  YR38837   \n",
       "\n",
       "     vocals  listen_count    length     instr  frequency       year  class  \n",
       "0  0.542255     14.651154  0.754471  2.004861   8.895517  14.124177      1  \n",
       "1  0.286127     21.862053  3.257507  2.342440   1.410923  13.088463      0  \n",
       "2  0.318834     15.068252  0.501357  2.563865   3.069557  12.353221      2  "
      ]
     },
     "execution_count": 4,
     "metadata": {},
     "output_type": "execute_result"
    }
   ],
   "source": [
    "data_set.head(3)"
   ]
  },
  {
   "cell_type": "code",
   "execution_count": 5,
   "metadata": {},
   "outputs": [
    {
     "data": {
      "text/plain": [
       "Counter({1: 162, 0: 172, 2: 165})"
      ]
     },
     "execution_count": 5,
     "metadata": {},
     "output_type": "execute_result"
    }
   ],
   "source": [
    "Counter(data_set['class'])"
   ]
  },
  {
   "cell_type": "markdown",
   "metadata": {},
   "source": [
    "**The classes are well balanced**, therefore, we **do not** need to handle the class imbalance issue in this project."
   ]
  },
  {
   "cell_type": "code",
   "execution_count": 6,
   "metadata": {},
   "outputs": [
    {
     "data": {
      "text/plain": [
       "Counter({'medium': 340, 'high': 92, 'low': 67})"
      ]
     },
     "execution_count": 6,
     "metadata": {},
     "output_type": "execute_result"
    }
   ],
   "source": [
    "Counter(data_set['ratings'])"
   ]
  },
  {
   "cell_type": "code",
   "execution_count": 7,
   "metadata": {},
   "outputs": [
    {
     "data": {
      "text/plain": [
       "Counter({'minor': 140, 'major': 200, 'atonal': 159})"
      ]
     },
     "execution_count": 7,
     "metadata": {},
     "output_type": "execute_result"
    }
   ],
   "source": [
    "Counter(data_set['tonality'])"
   ]
  },
  {
   "cell_type": "markdown",
   "metadata": {},
   "source": [
    "The feature \"tonality\" and \"ratings\" have **string values**."
   ]
  },
  {
   "cell_type": "markdown",
   "metadata": {},
   "source": [
    "## abnormal value check"
   ]
  },
  {
   "cell_type": "code",
   "execution_count": 8,
   "metadata": {},
   "outputs": [
    {
     "data": {
      "text/plain": [
       "(array([  3,   6,  23,  50,  66,  79, 102, 112, 122, 136, 138, 144, 195,\n",
       "        198, 213, 219, 222, 225, 227, 229, 231, 236, 245, 254, 261, 268,\n",
       "        271, 278, 281, 290, 292, 321, 356, 369, 388, 391, 392, 393, 394,\n",
       "        397, 400, 404, 418, 426, 433, 462, 470, 471, 476, 478, 494, 496]),)"
      ]
     },
     "execution_count": 8,
     "metadata": {},
     "output_type": "execute_result"
    }
   ],
   "source": [
    "np.where(data_set['length']<=0)"
   ]
  },
  {
   "cell_type": "code",
   "execution_count": 9,
   "metadata": {},
   "outputs": [
    {
     "data": {
      "text/plain": [
       "(array([186]),)"
      ]
     },
     "execution_count": 9,
     "metadata": {},
     "output_type": "execute_result"
    }
   ],
   "source": [
    "np.where(data_set['vocals']<=0)"
   ]
  },
  {
   "cell_type": "code",
   "execution_count": 10,
   "metadata": {},
   "outputs": [
    {
     "data": {
      "text/plain": [
       "radio_play       3.82196\n",
       "tonality          atonal\n",
       "ratings           medium\n",
       "albums_sold      2.39713\n",
       "loudness        0.878012\n",
       "tempo            100.857\n",
       "song_id          YR37003\n",
       "vocals         -0.125632\n",
       "listen_count     13.9333\n",
       "length          0.134628\n",
       "instr            2.47379\n",
       "frequency        3.08821\n",
       "year             12.6334\n",
       "class                  2\n",
       "Name: 186, dtype: object"
      ]
     },
     "execution_count": 10,
     "metadata": {},
     "output_type": "execute_result"
    }
   ],
   "source": [
    "data_set.iloc[186,:]"
   ]
  },
  {
   "cell_type": "code",
   "execution_count": 11,
   "metadata": {},
   "outputs": [
    {
     "data": {
      "text/plain": [
       "(array([], dtype=int64),)"
      ]
     },
     "execution_count": 11,
     "metadata": {},
     "output_type": "execute_result"
    }
   ],
   "source": [
    "np.where(data_set['year']<=0)"
   ]
  },
  {
   "cell_type": "code",
   "execution_count": 12,
   "metadata": {},
   "outputs": [
    {
     "data": {
      "text/plain": [
       "(array([ 45, 127, 151, 163, 168, 237, 252, 270, 300, 308, 377, 399, 476,\n",
       "        483]),)"
      ]
     },
     "execution_count": 12,
     "metadata": {},
     "output_type": "execute_result"
    }
   ],
   "source": [
    "np.where(data_set['radio_play']<=0)"
   ]
  },
  {
   "cell_type": "code",
   "execution_count": 13,
   "metadata": {},
   "outputs": [
    {
     "data": {
      "text/plain": [
       "(array([143, 148, 193, 319, 357, 360, 366, 482]),)"
      ]
     },
     "execution_count": 13,
     "metadata": {},
     "output_type": "execute_result"
    }
   ],
   "source": [
    "np.where(data_set['frequency']<=0)"
   ]
  },
  {
   "cell_type": "markdown",
   "metadata": {},
   "source": [
    "Although in real case, we need to handle these abnormal entries, however, since in this project, the data is created artifically, we do not know the mechanism of how they are generating. Thus it is ok to not handle those entries that are abnormal in real life."
   ]
  },
  {
   "cell_type": "markdown",
   "metadata": {},
   "source": [
    "## missing value check"
   ]
  },
  {
   "cell_type": "code",
   "execution_count": 14,
   "metadata": {},
   "outputs": [
    {
     "data": {
      "text/plain": [
       "radio_play      0\n",
       "tonality        0\n",
       "ratings         0\n",
       "albums_sold     0\n",
       "loudness        6\n",
       "tempo           0\n",
       "song_id         0\n",
       "vocals          0\n",
       "listen_count    0\n",
       "length          0\n",
       "instr           0\n",
       "frequency       3\n",
       "year            0\n",
       "class           0\n",
       "dtype: int64"
      ]
     },
     "execution_count": 14,
     "metadata": {},
     "output_type": "execute_result"
    }
   ],
   "source": [
    "data_set.isnull().sum()"
   ]
  },
  {
   "cell_type": "code",
   "execution_count": 15,
   "metadata": {},
   "outputs": [
    {
     "data": {
      "text/plain": [
       "(array([125, 198, 224, 266, 276, 384]),)"
      ]
     },
     "execution_count": 15,
     "metadata": {},
     "output_type": "execute_result"
    }
   ],
   "source": [
    "np.where(data_set['loudness'].isnull())"
   ]
  },
  {
   "cell_type": "code",
   "execution_count": 16,
   "metadata": {},
   "outputs": [
    {
     "data": {
      "text/plain": [
       "(array([131, 156, 408]),)"
      ]
     },
     "execution_count": 16,
     "metadata": {},
     "output_type": "execute_result"
    }
   ],
   "source": [
    "np.where(data_set['frequency'].isnull())"
   ]
  },
  {
   "cell_type": "markdown",
   "metadata": {},
   "source": [
    "## duplicate value check"
   ]
  },
  {
   "cell_type": "code",
   "execution_count": 17,
   "metadata": {},
   "outputs": [
    {
     "data": {
      "text/plain": [
       "[('YR71475', 1),\n",
       " ('YR27185', 1),\n",
       " ('YR96522', 1),\n",
       " ('YR73183', 1),\n",
       " ('YR94829', 1),\n",
       " ('YR05449', 1),\n",
       " ('YR22766', 1),\n",
       " ('YR07037', 1),\n",
       " ('YR12825', 2),\n",
       " ('YR12422', 2)]"
      ]
     },
     "execution_count": 17,
     "metadata": {},
     "output_type": "execute_result"
    }
   ],
   "source": [
    "# x = {1: 2, 3: 4, 4: 3, 2: 1, 0: 0}\n",
    "res = Counter(data_set['song_id'])\n",
    "sorted_res = sorted(res.items(), key=operator.itemgetter(1))\n",
    "sorted_res[-10:]"
   ]
  },
  {
   "cell_type": "code",
   "execution_count": 18,
   "metadata": {},
   "outputs": [
    {
     "name": "stdout",
     "output_type": "stream",
     "text": [
      "(array([117, 484]),)\n",
      "(array([395, 445]),)\n"
     ]
    }
   ],
   "source": [
    "print(np.where(data_set['song_id']=='YR12825'))\n",
    "print(np.where(data_set['song_id']=='YR12422'))"
   ]
  },
  {
   "cell_type": "code",
   "execution_count": 19,
   "metadata": {},
   "outputs": [
    {
     "data": {
      "text/html": [
       "<div>\n",
       "<style scoped>\n",
       "    .dataframe tbody tr th:only-of-type {\n",
       "        vertical-align: middle;\n",
       "    }\n",
       "\n",
       "    .dataframe tbody tr th {\n",
       "        vertical-align: top;\n",
       "    }\n",
       "\n",
       "    .dataframe thead th {\n",
       "        text-align: right;\n",
       "    }\n",
       "</style>\n",
       "<table border=\"1\" class=\"dataframe\">\n",
       "  <thead>\n",
       "    <tr style=\"text-align: right;\">\n",
       "      <th></th>\n",
       "      <th>radio_play</th>\n",
       "      <th>tonality</th>\n",
       "      <th>ratings</th>\n",
       "      <th>albums_sold</th>\n",
       "      <th>loudness</th>\n",
       "      <th>tempo</th>\n",
       "      <th>song_id</th>\n",
       "      <th>vocals</th>\n",
       "      <th>listen_count</th>\n",
       "      <th>length</th>\n",
       "      <th>instr</th>\n",
       "      <th>frequency</th>\n",
       "      <th>year</th>\n",
       "      <th>class</th>\n",
       "    </tr>\n",
       "  </thead>\n",
       "  <tbody>\n",
       "    <tr>\n",
       "      <th>117</th>\n",
       "      <td>2.092495</td>\n",
       "      <td>major</td>\n",
       "      <td>medium</td>\n",
       "      <td>1.764842</td>\n",
       "      <td>0.895659</td>\n",
       "      <td>95.796051</td>\n",
       "      <td>YR12825</td>\n",
       "      <td>0.349794</td>\n",
       "      <td>23.415235</td>\n",
       "      <td>3.645386</td>\n",
       "      <td>2.620233</td>\n",
       "      <td>6.915000</td>\n",
       "      <td>12.214929</td>\n",
       "      <td>0</td>\n",
       "    </tr>\n",
       "    <tr>\n",
       "      <th>484</th>\n",
       "      <td>3.399130</td>\n",
       "      <td>minor</td>\n",
       "      <td>medium</td>\n",
       "      <td>3.203442</td>\n",
       "      <td>0.711598</td>\n",
       "      <td>114.842860</td>\n",
       "      <td>YR12825</td>\n",
       "      <td>0.470943</td>\n",
       "      <td>14.303351</td>\n",
       "      <td>0.670405</td>\n",
       "      <td>1.938871</td>\n",
       "      <td>2.975646</td>\n",
       "      <td>14.331790</td>\n",
       "      <td>1</td>\n",
       "    </tr>\n",
       "  </tbody>\n",
       "</table>\n",
       "</div>"
      ],
      "text/plain": [
       "     radio_play tonality ratings  albums_sold  loudness       tempo  song_id  \\\n",
       "117    2.092495    major  medium     1.764842  0.895659   95.796051  YR12825   \n",
       "484    3.399130    minor  medium     3.203442  0.711598  114.842860  YR12825   \n",
       "\n",
       "       vocals  listen_count    length     instr  frequency       year  class  \n",
       "117  0.349794     23.415235  3.645386  2.620233   6.915000  12.214929      0  \n",
       "484  0.470943     14.303351  0.670405  1.938871   2.975646  14.331790      1  "
      ]
     },
     "execution_count": 19,
     "metadata": {},
     "output_type": "execute_result"
    }
   ],
   "source": [
    "data_set.loc[[117,484]]"
   ]
  },
  {
   "cell_type": "code",
   "execution_count": 20,
   "metadata": {},
   "outputs": [
    {
     "data": {
      "text/html": [
       "<div>\n",
       "<style scoped>\n",
       "    .dataframe tbody tr th:only-of-type {\n",
       "        vertical-align: middle;\n",
       "    }\n",
       "\n",
       "    .dataframe tbody tr th {\n",
       "        vertical-align: top;\n",
       "    }\n",
       "\n",
       "    .dataframe thead th {\n",
       "        text-align: right;\n",
       "    }\n",
       "</style>\n",
       "<table border=\"1\" class=\"dataframe\">\n",
       "  <thead>\n",
       "    <tr style=\"text-align: right;\">\n",
       "      <th></th>\n",
       "      <th>radio_play</th>\n",
       "      <th>albums_sold</th>\n",
       "      <th>loudness</th>\n",
       "      <th>tempo</th>\n",
       "      <th>vocals</th>\n",
       "      <th>listen_count</th>\n",
       "      <th>length</th>\n",
       "      <th>instr</th>\n",
       "      <th>frequency</th>\n",
       "      <th>year</th>\n",
       "      <th>class</th>\n",
       "    </tr>\n",
       "  </thead>\n",
       "  <tbody>\n",
       "    <tr>\n",
       "      <th>count</th>\n",
       "      <td>499.000000</td>\n",
       "      <td>499.000000</td>\n",
       "      <td>493.000000</td>\n",
       "      <td>499.000000</td>\n",
       "      <td>499.000000</td>\n",
       "      <td>499.000000</td>\n",
       "      <td>499.000000</td>\n",
       "      <td>499.000000</td>\n",
       "      <td>496.000000</td>\n",
       "      <td>499.000000</td>\n",
       "      <td>499.000000</td>\n",
       "    </tr>\n",
       "    <tr>\n",
       "      <th>mean</th>\n",
       "      <td>2.019261</td>\n",
       "      <td>2.297619</td>\n",
       "      <td>0.959969</td>\n",
       "      <td>99.071724</td>\n",
       "      <td>0.361654</td>\n",
       "      <td>18.706064</td>\n",
       "      <td>1.961103</td>\n",
       "      <td>2.467080</td>\n",
       "      <td>5.142011</td>\n",
       "      <td>12.677838</td>\n",
       "      <td>0.985972</td>\n",
       "    </tr>\n",
       "    <tr>\n",
       "      <th>std</th>\n",
       "      <td>1.081495</td>\n",
       "      <td>0.625383</td>\n",
       "      <td>0.238217</td>\n",
       "      <td>14.316636</td>\n",
       "      <td>0.127264</td>\n",
       "      <td>4.267241</td>\n",
       "      <td>1.505872</td>\n",
       "      <td>0.378515</td>\n",
       "      <td>2.273527</td>\n",
       "      <td>1.190131</td>\n",
       "      <td>0.822502</td>\n",
       "    </tr>\n",
       "    <tr>\n",
       "      <th>min</th>\n",
       "      <td>-1.517542</td>\n",
       "      <td>0.440815</td>\n",
       "      <td>0.305424</td>\n",
       "      <td>44.219950</td>\n",
       "      <td>-0.125632</td>\n",
       "      <td>5.626382</td>\n",
       "      <td>-2.651118</td>\n",
       "      <td>1.442828</td>\n",
       "      <td>-2.548753</td>\n",
       "      <td>10.092818</td>\n",
       "      <td>0.000000</td>\n",
       "    </tr>\n",
       "    <tr>\n",
       "      <th>25%</th>\n",
       "      <td>1.312519</td>\n",
       "      <td>1.873148</td>\n",
       "      <td>0.814580</td>\n",
       "      <td>89.731646</td>\n",
       "      <td>0.274404</td>\n",
       "      <td>15.386942</td>\n",
       "      <td>0.817240</td>\n",
       "      <td>2.188830</td>\n",
       "      <td>3.686436</td>\n",
       "      <td>11.751316</td>\n",
       "      <td>0.000000</td>\n",
       "    </tr>\n",
       "    <tr>\n",
       "      <th>50%</th>\n",
       "      <td>2.006872</td>\n",
       "      <td>2.286414</td>\n",
       "      <td>0.955657</td>\n",
       "      <td>99.770851</td>\n",
       "      <td>0.365849</td>\n",
       "      <td>18.311541</td>\n",
       "      <td>1.781843</td>\n",
       "      <td>2.549804</td>\n",
       "      <td>5.002288</td>\n",
       "      <td>12.424070</td>\n",
       "      <td>1.000000</td>\n",
       "    </tr>\n",
       "    <tr>\n",
       "      <th>75%</th>\n",
       "      <td>2.741510</td>\n",
       "      <td>2.673621</td>\n",
       "      <td>1.116395</td>\n",
       "      <td>109.465689</td>\n",
       "      <td>0.457384</td>\n",
       "      <td>22.924706</td>\n",
       "      <td>3.490229</td>\n",
       "      <td>2.762410</td>\n",
       "      <td>6.614318</td>\n",
       "      <td>13.550168</td>\n",
       "      <td>2.000000</td>\n",
       "    </tr>\n",
       "    <tr>\n",
       "      <th>max</th>\n",
       "      <td>4.980070</td>\n",
       "      <td>4.301016</td>\n",
       "      <td>1.749060</td>\n",
       "      <td>133.028880</td>\n",
       "      <td>0.742128</td>\n",
       "      <td>26.884537</td>\n",
       "      <td>4.478215</td>\n",
       "      <td>3.294620</td>\n",
       "      <td>11.828252</td>\n",
       "      <td>15.917137</td>\n",
       "      <td>2.000000</td>\n",
       "    </tr>\n",
       "  </tbody>\n",
       "</table>\n",
       "</div>"
      ],
      "text/plain": [
       "       radio_play  albums_sold    loudness       tempo      vocals  \\\n",
       "count  499.000000   499.000000  493.000000  499.000000  499.000000   \n",
       "mean     2.019261     2.297619    0.959969   99.071724    0.361654   \n",
       "std      1.081495     0.625383    0.238217   14.316636    0.127264   \n",
       "min     -1.517542     0.440815    0.305424   44.219950   -0.125632   \n",
       "25%      1.312519     1.873148    0.814580   89.731646    0.274404   \n",
       "50%      2.006872     2.286414    0.955657   99.770851    0.365849   \n",
       "75%      2.741510     2.673621    1.116395  109.465689    0.457384   \n",
       "max      4.980070     4.301016    1.749060  133.028880    0.742128   \n",
       "\n",
       "       listen_count      length       instr   frequency        year  \\\n",
       "count    499.000000  499.000000  499.000000  496.000000  499.000000   \n",
       "mean      18.706064    1.961103    2.467080    5.142011   12.677838   \n",
       "std        4.267241    1.505872    0.378515    2.273527    1.190131   \n",
       "min        5.626382   -2.651118    1.442828   -2.548753   10.092818   \n",
       "25%       15.386942    0.817240    2.188830    3.686436   11.751316   \n",
       "50%       18.311541    1.781843    2.549804    5.002288   12.424070   \n",
       "75%       22.924706    3.490229    2.762410    6.614318   13.550168   \n",
       "max       26.884537    4.478215    3.294620   11.828252   15.917137   \n",
       "\n",
       "            class  \n",
       "count  499.000000  \n",
       "mean     0.985972  \n",
       "std      0.822502  \n",
       "min      0.000000  \n",
       "25%      0.000000  \n",
       "50%      1.000000  \n",
       "75%      2.000000  \n",
       "max      2.000000  "
      ]
     },
     "execution_count": 20,
     "metadata": {},
     "output_type": "execute_result"
    }
   ],
   "source": [
    "data_set.describe()"
   ]
  },
  {
   "cell_type": "markdown",
   "metadata": {},
   "source": [
    "## Data Set summary"
   ]
  },
  {
   "cell_type": "markdown",
   "metadata": {},
   "source": [
    "Number of samples: 499  \n",
    "Number of features: 13 (numeric and strings)   \n",
    "Labels (0:172, 1,:162, 2:165) : for genre: (0 = pop, 1 = rock, 2 = jazz)  \n",
    "\n",
    "Features description:   \n",
    "Numeric Feature:  \n",
    "&emsp; radio_play: Weekly average number of radio play  \n",
    "&emsp; &emsp; &emsp; &emsp; has 14 negative values  \n",
    "&emsp; albums_sold: Albums sold (in thousands)  \n",
    "&emsp; &emsp; &emsp; &emsp; all positive values  \n",
    "&emsp; loudness: Loudness index: loudness is the subjective perception of sound pressure  \n",
    "&emsp; &emsp; &emsp; &emsp; all positive values, and we found 6 missing values  \n",
    "&emsp; tempo: Tempo : the speed or pace of a given piece  \n",
    "&emsp; &emsp; &emsp; &emsp; all positive values  \n",
    "&emsp; vocals: percentage of vocals in song  \n",
    "&emsp; &emsp; &emsp; &emsp; has 1 negative values in the No. 187 entry  \n",
    "&emsp; listen_count: Digital listen count (in thousands)  \n",
    "&emsp; &emsp; &emsp; &emsp; all positive values  \n",
    "&emsp; length: Length of song  \n",
    "&emsp; &emsp; &emsp; &emsp; has 52 negative values  \n",
    "&emsp; instr: Number of instruments playing simultaneously on average  \n",
    "&emsp; &emsp; &emsp; &emsp; all positive values  \n",
    "&emsp; frequency: Average audio frequency (in hundreds)  \n",
    "&emsp; &emsp; &emsp; &emsp; has 8 negative values, we found 3 missing values  \n",
    "&emsp; year: Release year  \n",
    "\n",
    "Srings Feature:  \n",
    "&emsp; ratings: Listener ratings, 3 category: 'medium', 'high', 'low'  \n",
    "&emsp; tonality: 3 category: 'minor', 'major', 'atonal'  \n",
    "&emsp; song_id: Song ID  \n",
    "&emsp; &emsp; &emsp; &emsp; **This feature is irrelevant to our model**, but we found duplicated values in this feature. "
   ]
  },
  {
   "cell_type": "markdown",
   "metadata": {},
   "source": [
    "# Problem description"
   ]
  },
  {
   "cell_type": "markdown",
   "metadata": {},
   "source": [
    "&emsp; &emsp; We are given a dataset which is the results of an analysis of songs recorded by a record label. Every song has thirteen features and belongs to three different genres: pop, rock or jazz.  \n",
    "&emsp; &emsp; This task is a multi-class classification problem. We are going to first reduce it to a sequency of binary classification problem by using one-vs-one strategy. Then, we will use KNN, decision tree, SVM, logistic regression and neural network models to predict the song genres on the test data set. Particularly, we will implement a random forest algorithm on our own and compare the result with the aforementioned models.  \n",
    "&emsp; &emsp; After the implementation of those models, we will corss-validate those models on the dataset, compare the results and give our conclusion."
   ]
  },
  {
   "cell_type": "markdown",
   "metadata": {},
   "source": [
    "# Data preprocessing   \n",
    "After roughly look at the data set, we are going to preprocess it now."
   ]
  },
  {
   "cell_type": "markdown",
   "metadata": {},
   "source": [
    "## Remove duplicate value\n",
    "Usually we remove duplicate entries if we find them, but in this data set, there are entries have the same \"song_id\" but different values for other features.  Since the data is created artifically(we do not know the mechanism of how they are generating) and we do not think song_id is useful to our analysis. **We can just remove this feature instead of remove \"duplicate value\".**  "
   ]
  },
  {
   "cell_type": "code",
   "execution_count": 21,
   "metadata": {
    "scrolled": true
   },
   "outputs": [
    {
     "data": {
      "text/html": [
       "<div>\n",
       "<style scoped>\n",
       "    .dataframe tbody tr th:only-of-type {\n",
       "        vertical-align: middle;\n",
       "    }\n",
       "\n",
       "    .dataframe tbody tr th {\n",
       "        vertical-align: top;\n",
       "    }\n",
       "\n",
       "    .dataframe thead th {\n",
       "        text-align: right;\n",
       "    }\n",
       "</style>\n",
       "<table border=\"1\" class=\"dataframe\">\n",
       "  <thead>\n",
       "    <tr style=\"text-align: right;\">\n",
       "      <th></th>\n",
       "      <th>radio_play</th>\n",
       "      <th>tonality</th>\n",
       "      <th>ratings</th>\n",
       "      <th>albums_sold</th>\n",
       "      <th>loudness</th>\n",
       "      <th>tempo</th>\n",
       "      <th>vocals</th>\n",
       "      <th>listen_count</th>\n",
       "      <th>length</th>\n",
       "      <th>instr</th>\n",
       "      <th>frequency</th>\n",
       "      <th>year</th>\n",
       "      <th>class</th>\n",
       "    </tr>\n",
       "  </thead>\n",
       "  <tbody>\n",
       "    <tr>\n",
       "      <th>0</th>\n",
       "      <td>3.214737</td>\n",
       "      <td>minor</td>\n",
       "      <td>medium</td>\n",
       "      <td>1.808823</td>\n",
       "      <td>0.495750</td>\n",
       "      <td>44.219950</td>\n",
       "      <td>0.542255</td>\n",
       "      <td>14.651154</td>\n",
       "      <td>0.754471</td>\n",
       "      <td>2.004861</td>\n",
       "      <td>8.895517</td>\n",
       "      <td>14.124177</td>\n",
       "      <td>1</td>\n",
       "    </tr>\n",
       "    <tr>\n",
       "      <th>1</th>\n",
       "      <td>2.714995</td>\n",
       "      <td>major</td>\n",
       "      <td>medium</td>\n",
       "      <td>2.570554</td>\n",
       "      <td>1.179683</td>\n",
       "      <td>89.727501</td>\n",
       "      <td>0.286127</td>\n",
       "      <td>21.862053</td>\n",
       "      <td>3.257507</td>\n",
       "      <td>2.342440</td>\n",
       "      <td>1.410923</td>\n",
       "      <td>13.088463</td>\n",
       "      <td>0</td>\n",
       "    </tr>\n",
       "    <tr>\n",
       "      <th>2</th>\n",
       "      <td>3.344488</td>\n",
       "      <td>atonal</td>\n",
       "      <td>medium</td>\n",
       "      <td>2.539966</td>\n",
       "      <td>0.878841</td>\n",
       "      <td>98.620555</td>\n",
       "      <td>0.318834</td>\n",
       "      <td>15.068252</td>\n",
       "      <td>0.501357</td>\n",
       "      <td>2.563865</td>\n",
       "      <td>3.069557</td>\n",
       "      <td>12.353221</td>\n",
       "      <td>2</td>\n",
       "    </tr>\n",
       "  </tbody>\n",
       "</table>\n",
       "</div>"
      ],
      "text/plain": [
       "   radio_play tonality ratings  albums_sold  loudness      tempo    vocals  \\\n",
       "0    3.214737    minor  medium     1.808823  0.495750  44.219950  0.542255   \n",
       "1    2.714995    major  medium     2.570554  1.179683  89.727501  0.286127   \n",
       "2    3.344488   atonal  medium     2.539966  0.878841  98.620555  0.318834   \n",
       "\n",
       "   listen_count    length     instr  frequency       year  class  \n",
       "0     14.651154  0.754471  2.004861   8.895517  14.124177      1  \n",
       "1     21.862053  3.257507  2.342440   1.410923  13.088463      0  \n",
       "2     15.068252  0.501357  2.563865   3.069557  12.353221      2  "
      ]
     },
     "execution_count": 21,
     "metadata": {},
     "output_type": "execute_result"
    }
   ],
   "source": [
    "data_set = data_set.drop(['song_id'],axis='columns')\n",
    "data_set.head(3)"
   ]
  },
  {
   "cell_type": "markdown",
   "metadata": {},
   "source": [
    "## Remove missing value  \n",
    "There are many ways to deal with missing value, for example, use mean or median value to fill up the missing value and etc.  \n",
    "In our project, only 9 entries have missing value. We directly remove them because these are very tiny portion of our dataset."
   ]
  },
  {
   "cell_type": "code",
   "execution_count": 22,
   "metadata": {},
   "outputs": [
    {
     "data": {
      "text/plain": [
       "(499, 13)"
      ]
     },
     "execution_count": 22,
     "metadata": {},
     "output_type": "execute_result"
    }
   ],
   "source": [
    "data_set.shape"
   ]
  },
  {
   "cell_type": "code",
   "execution_count": 23,
   "metadata": {},
   "outputs": [
    {
     "data": {
      "text/plain": [
       "(490, 13)"
      ]
     },
     "execution_count": 23,
     "metadata": {},
     "output_type": "execute_result"
    }
   ],
   "source": [
    "missingrow_loudness = np.where(data_set['loudness'].isnull())[0].tolist() \n",
    "missingrow_frequency = np.where(data_set['frequency'].isnull())[0].tolist()\n",
    "data_set=data_set.drop(missingrow_loudness+missingrow_frequency,axis=0)\n",
    "data_set.shape"
   ]
  },
  {
   "cell_type": "markdown",
   "metadata": {},
   "source": [
    "Alternatively, we can also perform: **a predictive models to impute the missing data** namely that we regard the missing feature value as the target variable and use other features to predict the missing value."
   ]
  },
  {
   "cell_type": "markdown",
   "metadata": {},
   "source": [
    "## Feature representation"
   ]
  },
  {
   "cell_type": "markdown",
   "metadata": {},
   "source": [
    "In our data set, some features have string values. For example: tonality{minor, major, atonal}, ratings{medium, high, low}. We must turn these features to numeric values.  \n",
    "The first way we can try is **Label Encoding**:"
   ]
  },
  {
   "cell_type": "code",
   "execution_count": 24,
   "metadata": {
    "scrolled": true
   },
   "outputs": [
    {
     "data": {
      "text/html": [
       "<div>\n",
       "<style scoped>\n",
       "    .dataframe tbody tr th:only-of-type {\n",
       "        vertical-align: middle;\n",
       "    }\n",
       "\n",
       "    .dataframe tbody tr th {\n",
       "        vertical-align: top;\n",
       "    }\n",
       "\n",
       "    .dataframe thead th {\n",
       "        text-align: right;\n",
       "    }\n",
       "</style>\n",
       "<table border=\"1\" class=\"dataframe\">\n",
       "  <thead>\n",
       "    <tr style=\"text-align: right;\">\n",
       "      <th></th>\n",
       "      <th>radio_play</th>\n",
       "      <th>tonality</th>\n",
       "      <th>ratings</th>\n",
       "      <th>albums_sold</th>\n",
       "      <th>loudness</th>\n",
       "      <th>tempo</th>\n",
       "      <th>vocals</th>\n",
       "      <th>listen_count</th>\n",
       "      <th>length</th>\n",
       "      <th>instr</th>\n",
       "      <th>frequency</th>\n",
       "      <th>year</th>\n",
       "      <th>class</th>\n",
       "    </tr>\n",
       "  </thead>\n",
       "  <tbody>\n",
       "    <tr>\n",
       "      <th>0</th>\n",
       "      <td>3.214737</td>\n",
       "      <td>minor</td>\n",
       "      <td>medium</td>\n",
       "      <td>1.808823</td>\n",
       "      <td>0.495750</td>\n",
       "      <td>44.219950</td>\n",
       "      <td>0.542255</td>\n",
       "      <td>14.651154</td>\n",
       "      <td>0.754471</td>\n",
       "      <td>2.004861</td>\n",
       "      <td>8.895517</td>\n",
       "      <td>14.124177</td>\n",
       "      <td>1</td>\n",
       "    </tr>\n",
       "    <tr>\n",
       "      <th>1</th>\n",
       "      <td>2.714995</td>\n",
       "      <td>major</td>\n",
       "      <td>medium</td>\n",
       "      <td>2.570554</td>\n",
       "      <td>1.179683</td>\n",
       "      <td>89.727501</td>\n",
       "      <td>0.286127</td>\n",
       "      <td>21.862053</td>\n",
       "      <td>3.257507</td>\n",
       "      <td>2.342440</td>\n",
       "      <td>1.410923</td>\n",
       "      <td>13.088463</td>\n",
       "      <td>0</td>\n",
       "    </tr>\n",
       "    <tr>\n",
       "      <th>2</th>\n",
       "      <td>3.344488</td>\n",
       "      <td>atonal</td>\n",
       "      <td>medium</td>\n",
       "      <td>2.539966</td>\n",
       "      <td>0.878841</td>\n",
       "      <td>98.620555</td>\n",
       "      <td>0.318834</td>\n",
       "      <td>15.068252</td>\n",
       "      <td>0.501357</td>\n",
       "      <td>2.563865</td>\n",
       "      <td>3.069557</td>\n",
       "      <td>12.353221</td>\n",
       "      <td>2</td>\n",
       "    </tr>\n",
       "  </tbody>\n",
       "</table>\n",
       "</div>"
      ],
      "text/plain": [
       "   radio_play tonality ratings  albums_sold  loudness      tempo    vocals  \\\n",
       "0    3.214737    minor  medium     1.808823  0.495750  44.219950  0.542255   \n",
       "1    2.714995    major  medium     2.570554  1.179683  89.727501  0.286127   \n",
       "2    3.344488   atonal  medium     2.539966  0.878841  98.620555  0.318834   \n",
       "\n",
       "   listen_count    length     instr  frequency       year  class  \n",
       "0     14.651154  0.754471  2.004861   8.895517  14.124177      1  \n",
       "1     21.862053  3.257507  2.342440   1.410923  13.088463      0  \n",
       "2     15.068252  0.501357  2.563865   3.069557  12.353221      2  "
      ]
     },
     "execution_count": 24,
     "metadata": {},
     "output_type": "execute_result"
    }
   ],
   "source": [
    "data_set.head(3)"
   ]
  },
  {
   "cell_type": "code",
   "execution_count": 25,
   "metadata": {},
   "outputs": [
    {
     "data": {
      "text/html": [
       "<div>\n",
       "<style scoped>\n",
       "    .dataframe tbody tr th:only-of-type {\n",
       "        vertical-align: middle;\n",
       "    }\n",
       "\n",
       "    .dataframe tbody tr th {\n",
       "        vertical-align: top;\n",
       "    }\n",
       "\n",
       "    .dataframe thead th {\n",
       "        text-align: right;\n",
       "    }\n",
       "</style>\n",
       "<table border=\"1\" class=\"dataframe\">\n",
       "  <thead>\n",
       "    <tr style=\"text-align: right;\">\n",
       "      <th></th>\n",
       "      <th>radio_play</th>\n",
       "      <th>tonality</th>\n",
       "      <th>ratings</th>\n",
       "      <th>albums_sold</th>\n",
       "      <th>loudness</th>\n",
       "      <th>tempo</th>\n",
       "      <th>vocals</th>\n",
       "      <th>listen_count</th>\n",
       "      <th>length</th>\n",
       "      <th>instr</th>\n",
       "      <th>frequency</th>\n",
       "      <th>year</th>\n",
       "      <th>class</th>\n",
       "    </tr>\n",
       "  </thead>\n",
       "  <tbody>\n",
       "    <tr>\n",
       "      <th>9</th>\n",
       "      <td>0.038912</td>\n",
       "      <td>major</td>\n",
       "      <td>2</td>\n",
       "      <td>2.222123</td>\n",
       "      <td>0.466100</td>\n",
       "      <td>94.877731</td>\n",
       "      <td>0.233440</td>\n",
       "      <td>23.713114</td>\n",
       "      <td>3.714814</td>\n",
       "      <td>2.680237</td>\n",
       "      <td>1.783253</td>\n",
       "      <td>12.026060</td>\n",
       "      <td>0</td>\n",
       "    </tr>\n",
       "    <tr>\n",
       "      <th>10</th>\n",
       "      <td>3.033054</td>\n",
       "      <td>major</td>\n",
       "      <td>0</td>\n",
       "      <td>2.971774</td>\n",
       "      <td>0.643407</td>\n",
       "      <td>120.431727</td>\n",
       "      <td>0.644017</td>\n",
       "      <td>21.467888</td>\n",
       "      <td>2.616638</td>\n",
       "      <td>3.007386</td>\n",
       "      <td>4.510030</td>\n",
       "      <td>10.977557</td>\n",
       "      <td>2</td>\n",
       "    </tr>\n",
       "    <tr>\n",
       "      <th>11</th>\n",
       "      <td>2.532875</td>\n",
       "      <td>major</td>\n",
       "      <td>1</td>\n",
       "      <td>3.330677</td>\n",
       "      <td>0.832352</td>\n",
       "      <td>84.291564</td>\n",
       "      <td>0.278362</td>\n",
       "      <td>15.718616</td>\n",
       "      <td>1.084143</td>\n",
       "      <td>2.110239</td>\n",
       "      <td>6.589335</td>\n",
       "      <td>13.795132</td>\n",
       "      <td>2</td>\n",
       "    </tr>\n",
       "  </tbody>\n",
       "</table>\n",
       "</div>"
      ],
      "text/plain": [
       "    radio_play tonality  ratings  albums_sold  loudness       tempo    vocals  \\\n",
       "9     0.038912    major        2     2.222123  0.466100   94.877731  0.233440   \n",
       "10    3.033054    major        0     2.971774  0.643407  120.431727  0.644017   \n",
       "11    2.532875    major        1     3.330677  0.832352   84.291564  0.278362   \n",
       "\n",
       "    listen_count    length     instr  frequency       year  class  \n",
       "9      23.713114  3.714814  2.680237   1.783253  12.026060      0  \n",
       "10     21.467888  2.616638  3.007386   4.510030  10.977557      2  \n",
       "11     15.718616  1.084143  2.110239   6.589335  13.795132      2  "
      ]
     },
     "execution_count": 25,
     "metadata": {},
     "output_type": "execute_result"
    }
   ],
   "source": [
    "data_set.ratings=LabelEncoder().fit_transform(data_set.ratings)\n",
    "data_set[9:12]"
   ]
  },
  {
   "cell_type": "markdown",
   "metadata": {},
   "source": [
    "Now the feature \"ratings\" is trasnfromed to numerical values by Label Encoding; however, we cannot do the same thing for feature \"tonality\". If we just use number such as 0,1,2 to represent minor, major, atonal, it sounds plausible. However, in string value, we know they are just three different types, but when we use number 0,1,2 to represent it, the number will imply that minor < major < atonal  which is not true.  \n",
    "Therefore, we may use **one-hot encoding** for this \"tonality\""
   ]
  },
  {
   "cell_type": "code",
   "execution_count": 26,
   "metadata": {
    "scrolled": true
   },
   "outputs": [],
   "source": [
    "tonality_dummies= pd.get_dummies(data_set.tonality)\n",
    "data_set_fea_rep = pd.concat([pd.get_dummies(data_set.tonality),data_set],\n",
    "                             axis='columns').drop(['tonality','atonal'],axis='columns')"
   ]
  },
  {
   "cell_type": "code",
   "execution_count": 27,
   "metadata": {
    "scrolled": true
   },
   "outputs": [
    {
     "data": {
      "text/html": [
       "<div>\n",
       "<style scoped>\n",
       "    .dataframe tbody tr th:only-of-type {\n",
       "        vertical-align: middle;\n",
       "    }\n",
       "\n",
       "    .dataframe tbody tr th {\n",
       "        vertical-align: top;\n",
       "    }\n",
       "\n",
       "    .dataframe thead th {\n",
       "        text-align: right;\n",
       "    }\n",
       "</style>\n",
       "<table border=\"1\" class=\"dataframe\">\n",
       "  <thead>\n",
       "    <tr style=\"text-align: right;\">\n",
       "      <th></th>\n",
       "      <th>major</th>\n",
       "      <th>minor</th>\n",
       "      <th>radio_play</th>\n",
       "      <th>ratings</th>\n",
       "      <th>albums_sold</th>\n",
       "      <th>loudness</th>\n",
       "      <th>tempo</th>\n",
       "      <th>vocals</th>\n",
       "      <th>listen_count</th>\n",
       "      <th>length</th>\n",
       "      <th>instr</th>\n",
       "      <th>frequency</th>\n",
       "      <th>year</th>\n",
       "      <th>class</th>\n",
       "    </tr>\n",
       "  </thead>\n",
       "  <tbody>\n",
       "    <tr>\n",
       "      <th>0</th>\n",
       "      <td>0</td>\n",
       "      <td>1</td>\n",
       "      <td>3.214737</td>\n",
       "      <td>2</td>\n",
       "      <td>1.808823</td>\n",
       "      <td>0.495750</td>\n",
       "      <td>44.219950</td>\n",
       "      <td>0.542255</td>\n",
       "      <td>14.651154</td>\n",
       "      <td>0.754471</td>\n",
       "      <td>2.004861</td>\n",
       "      <td>8.895517</td>\n",
       "      <td>14.124177</td>\n",
       "      <td>1</td>\n",
       "    </tr>\n",
       "    <tr>\n",
       "      <th>1</th>\n",
       "      <td>1</td>\n",
       "      <td>0</td>\n",
       "      <td>2.714995</td>\n",
       "      <td>2</td>\n",
       "      <td>2.570554</td>\n",
       "      <td>1.179683</td>\n",
       "      <td>89.727501</td>\n",
       "      <td>0.286127</td>\n",
       "      <td>21.862053</td>\n",
       "      <td>3.257507</td>\n",
       "      <td>2.342440</td>\n",
       "      <td>1.410923</td>\n",
       "      <td>13.088463</td>\n",
       "      <td>0</td>\n",
       "    </tr>\n",
       "    <tr>\n",
       "      <th>2</th>\n",
       "      <td>0</td>\n",
       "      <td>0</td>\n",
       "      <td>3.344488</td>\n",
       "      <td>2</td>\n",
       "      <td>2.539966</td>\n",
       "      <td>0.878841</td>\n",
       "      <td>98.620555</td>\n",
       "      <td>0.318834</td>\n",
       "      <td>15.068252</td>\n",
       "      <td>0.501357</td>\n",
       "      <td>2.563865</td>\n",
       "      <td>3.069557</td>\n",
       "      <td>12.353221</td>\n",
       "      <td>2</td>\n",
       "    </tr>\n",
       "  </tbody>\n",
       "</table>\n",
       "</div>"
      ],
      "text/plain": [
       "   major  minor  radio_play  ratings  albums_sold  loudness      tempo  \\\n",
       "0      0      1    3.214737        2     1.808823  0.495750  44.219950   \n",
       "1      1      0    2.714995        2     2.570554  1.179683  89.727501   \n",
       "2      0      0    3.344488        2     2.539966  0.878841  98.620555   \n",
       "\n",
       "     vocals  listen_count    length     instr  frequency       year  class  \n",
       "0  0.542255     14.651154  0.754471  2.004861   8.895517  14.124177      1  \n",
       "1  0.286127     21.862053  3.257507  2.342440   1.410923  13.088463      0  \n",
       "2  0.318834     15.068252  0.501357  2.563865   3.069557  12.353221      2  "
      ]
     },
     "execution_count": 27,
     "metadata": {},
     "output_type": "execute_result"
    }
   ],
   "source": [
    "data_set_fea_rep.head(3)"
   ]
  },
  {
   "cell_type": "markdown",
   "metadata": {},
   "source": [
    "We removed the original column tonality because its meaning can be replaced by the new features (major, minor and atonal)  \n",
    "However, in order to avoid **dummy variable trap** (multicollinear issue: a scenario in which two or more variables are highly correlated), we also need to drop one of the categorical variables namely that if there are m number of categories, we use m-1 in the model to avoid the trap.\n",
    "#### Now, all the string-valued features are turned to numerical values."
   ]
  },
  {
   "cell_type": "code",
   "execution_count": 28,
   "metadata": {},
   "outputs": [
    {
     "data": {
      "text/plain": [
       "(490, 14)"
      ]
     },
     "execution_count": 28,
     "metadata": {},
     "output_type": "execute_result"
    }
   ],
   "source": [
    "data_set_fea_rep.shape"
   ]
  },
  {
   "cell_type": "markdown",
   "metadata": {},
   "source": [
    "## Shuffle the dataset\n",
    "Usually, datapoints in a sample are not realizations of a perfectly i.i.d. sequence of random variables. Instead, the sample might be generated in such a way that the datapoints have some degree of time dependence without us noticing, or they might be correlated in some other way among each other. \n",
    "\n",
    "Moreover, some algorithms may depend on the order of the datapoints in the sample.\n",
    "\n",
    "In order to reduce these efffects as much as possible,it is always a good idea to shuffle the datapoints before usage."
   ]
  },
  {
   "cell_type": "code",
   "execution_count": 29,
   "metadata": {},
   "outputs": [
    {
     "data": {
      "text/html": [
       "<div>\n",
       "<style scoped>\n",
       "    .dataframe tbody tr th:only-of-type {\n",
       "        vertical-align: middle;\n",
       "    }\n",
       "\n",
       "    .dataframe tbody tr th {\n",
       "        vertical-align: top;\n",
       "    }\n",
       "\n",
       "    .dataframe thead th {\n",
       "        text-align: right;\n",
       "    }\n",
       "</style>\n",
       "<table border=\"1\" class=\"dataframe\">\n",
       "  <thead>\n",
       "    <tr style=\"text-align: right;\">\n",
       "      <th></th>\n",
       "      <th>major</th>\n",
       "      <th>minor</th>\n",
       "      <th>radio_play</th>\n",
       "      <th>ratings</th>\n",
       "      <th>albums_sold</th>\n",
       "      <th>loudness</th>\n",
       "      <th>tempo</th>\n",
       "      <th>vocals</th>\n",
       "      <th>listen_count</th>\n",
       "      <th>length</th>\n",
       "      <th>instr</th>\n",
       "      <th>frequency</th>\n",
       "      <th>year</th>\n",
       "      <th>class</th>\n",
       "    </tr>\n",
       "  </thead>\n",
       "  <tbody>\n",
       "    <tr>\n",
       "      <th>0</th>\n",
       "      <td>0</td>\n",
       "      <td>1</td>\n",
       "      <td>3.214737</td>\n",
       "      <td>2</td>\n",
       "      <td>1.808823</td>\n",
       "      <td>0.495750</td>\n",
       "      <td>44.219950</td>\n",
       "      <td>0.542255</td>\n",
       "      <td>14.651154</td>\n",
       "      <td>0.754471</td>\n",
       "      <td>2.004861</td>\n",
       "      <td>8.895517</td>\n",
       "      <td>14.124177</td>\n",
       "      <td>1</td>\n",
       "    </tr>\n",
       "    <tr>\n",
       "      <th>1</th>\n",
       "      <td>1</td>\n",
       "      <td>0</td>\n",
       "      <td>2.714995</td>\n",
       "      <td>2</td>\n",
       "      <td>2.570554</td>\n",
       "      <td>1.179683</td>\n",
       "      <td>89.727501</td>\n",
       "      <td>0.286127</td>\n",
       "      <td>21.862053</td>\n",
       "      <td>3.257507</td>\n",
       "      <td>2.342440</td>\n",
       "      <td>1.410923</td>\n",
       "      <td>13.088463</td>\n",
       "      <td>0</td>\n",
       "    </tr>\n",
       "    <tr>\n",
       "      <th>2</th>\n",
       "      <td>0</td>\n",
       "      <td>0</td>\n",
       "      <td>3.344488</td>\n",
       "      <td>2</td>\n",
       "      <td>2.539966</td>\n",
       "      <td>0.878841</td>\n",
       "      <td>98.620555</td>\n",
       "      <td>0.318834</td>\n",
       "      <td>15.068252</td>\n",
       "      <td>0.501357</td>\n",
       "      <td>2.563865</td>\n",
       "      <td>3.069557</td>\n",
       "      <td>12.353221</td>\n",
       "      <td>2</td>\n",
       "    </tr>\n",
       "  </tbody>\n",
       "</table>\n",
       "</div>"
      ],
      "text/plain": [
       "   major  minor  radio_play  ratings  albums_sold  loudness      tempo  \\\n",
       "0      0      1    3.214737        2     1.808823  0.495750  44.219950   \n",
       "1      1      0    2.714995        2     2.570554  1.179683  89.727501   \n",
       "2      0      0    3.344488        2     2.539966  0.878841  98.620555   \n",
       "\n",
       "     vocals  listen_count    length     instr  frequency       year  class  \n",
       "0  0.542255     14.651154  0.754471  2.004861   8.895517  14.124177      1  \n",
       "1  0.286127     21.862053  3.257507  2.342440   1.410923  13.088463      0  \n",
       "2  0.318834     15.068252  0.501357  2.563865   3.069557  12.353221      2  "
      ]
     },
     "execution_count": 29,
     "metadata": {},
     "output_type": "execute_result"
    }
   ],
   "source": [
    "data_set_fea_rep.head(3)"
   ]
  },
  {
   "cell_type": "code",
   "execution_count": 30,
   "metadata": {},
   "outputs": [],
   "source": [
    "def shuffle(dataset_df):\n",
    "    res=dataset_df.values\n",
    "#     y = y.reshape(-1,1)\n",
    "#     z = np.hstack((x, y))\n",
    "    np.random.shuffle(res)\n",
    "#     x_new, y_new = np.hsplit(z, [x.shape[1]])\n",
    "#     return x_new, y_new.reshape(-1)\n",
    "    return res"
   ]
  },
  {
   "cell_type": "code",
   "execution_count": 31,
   "metadata": {},
   "outputs": [
    {
     "data": {
      "text/html": [
       "<div>\n",
       "<style scoped>\n",
       "    .dataframe tbody tr th:only-of-type {\n",
       "        vertical-align: middle;\n",
       "    }\n",
       "\n",
       "    .dataframe tbody tr th {\n",
       "        vertical-align: top;\n",
       "    }\n",
       "\n",
       "    .dataframe thead th {\n",
       "        text-align: right;\n",
       "    }\n",
       "</style>\n",
       "<table border=\"1\" class=\"dataframe\">\n",
       "  <thead>\n",
       "    <tr style=\"text-align: right;\">\n",
       "      <th></th>\n",
       "      <th>major</th>\n",
       "      <th>minor</th>\n",
       "      <th>radio_play</th>\n",
       "      <th>ratings</th>\n",
       "      <th>albums_sold</th>\n",
       "      <th>loudness</th>\n",
       "      <th>tempo</th>\n",
       "      <th>vocals</th>\n",
       "      <th>listen_count</th>\n",
       "      <th>length</th>\n",
       "      <th>instr</th>\n",
       "      <th>frequency</th>\n",
       "      <th>year</th>\n",
       "      <th>class</th>\n",
       "    </tr>\n",
       "  </thead>\n",
       "  <tbody>\n",
       "    <tr>\n",
       "      <th>0</th>\n",
       "      <td>0.0</td>\n",
       "      <td>0.0</td>\n",
       "      <td>1.380879</td>\n",
       "      <td>1.0</td>\n",
       "      <td>1.666863</td>\n",
       "      <td>0.681349</td>\n",
       "      <td>121.396153</td>\n",
       "      <td>0.180209</td>\n",
       "      <td>14.391221</td>\n",
       "      <td>0.451316</td>\n",
       "      <td>2.281384</td>\n",
       "      <td>3.086396</td>\n",
       "      <td>13.245875</td>\n",
       "      <td>1.0</td>\n",
       "    </tr>\n",
       "    <tr>\n",
       "      <th>1</th>\n",
       "      <td>0.0</td>\n",
       "      <td>1.0</td>\n",
       "      <td>2.579237</td>\n",
       "      <td>2.0</td>\n",
       "      <td>1.901564</td>\n",
       "      <td>0.988814</td>\n",
       "      <td>79.781995</td>\n",
       "      <td>0.461115</td>\n",
       "      <td>11.507241</td>\n",
       "      <td>-0.686436</td>\n",
       "      <td>2.331670</td>\n",
       "      <td>4.049010</td>\n",
       "      <td>13.072395</td>\n",
       "      <td>2.0</td>\n",
       "    </tr>\n",
       "    <tr>\n",
       "      <th>2</th>\n",
       "      <td>1.0</td>\n",
       "      <td>0.0</td>\n",
       "      <td>0.463360</td>\n",
       "      <td>1.0</td>\n",
       "      <td>1.730703</td>\n",
       "      <td>1.133126</td>\n",
       "      <td>99.932355</td>\n",
       "      <td>0.394251</td>\n",
       "      <td>11.778098</td>\n",
       "      <td>-0.636284</td>\n",
       "      <td>2.403826</td>\n",
       "      <td>6.565666</td>\n",
       "      <td>12.844851</td>\n",
       "      <td>1.0</td>\n",
       "    </tr>\n",
       "  </tbody>\n",
       "</table>\n",
       "</div>"
      ],
      "text/plain": [
       "   major  minor  radio_play  ratings  albums_sold  loudness       tempo  \\\n",
       "0    0.0    0.0    1.380879      1.0     1.666863  0.681349  121.396153   \n",
       "1    0.0    1.0    2.579237      2.0     1.901564  0.988814   79.781995   \n",
       "2    1.0    0.0    0.463360      1.0     1.730703  1.133126   99.932355   \n",
       "\n",
       "     vocals  listen_count    length     instr  frequency       year  class  \n",
       "0  0.180209     14.391221  0.451316  2.281384   3.086396  13.245875    1.0  \n",
       "1  0.461115     11.507241 -0.686436  2.331670   4.049010  13.072395    2.0  \n",
       "2  0.394251     11.778098 -0.636284  2.403826   6.565666  12.844851    1.0  "
      ]
     },
     "execution_count": 31,
     "metadata": {},
     "output_type": "execute_result"
    }
   ],
   "source": [
    "data_set_shuffle = pd.DataFrame(shuffle(data_set_fea_rep), columns=data_set_fea_rep.columns)\n",
    "data_set_shuffle.head(3)"
   ]
  },
  {
   "cell_type": "markdown",
   "metadata": {},
   "source": [
    "## Train and test splitting"
   ]
  },
  {
   "cell_type": "markdown",
   "metadata": {},
   "source": [
    "To obtain a result of how good our model will be we cannot plainly use the empirical error obtained on the training dataset. This error is biased as we trained the model in such a way as to minimize it!\n",
    "\n",
    "Instead, one typically would like to compute the empirical error on new, previously unseen data to obtain a better estimate of how good the model describes reality. These \"new, previously unseen\" data must be set aside from the beginning and separated from the training dataset into a test dataset.\n",
    "\n",
    "The test dataset will not be used for training and we will use it only at end, in order to come up with an estimate of how good our model is.\n",
    "\n",
    "The process of evaluating the prediction error of our model using the empirical error on the test dataset is called testing. we hold **20% of total data** for testing in the end."
   ]
  },
  {
   "cell_type": "code",
   "execution_count": 32,
   "metadata": {},
   "outputs": [],
   "source": [
    "def splitting(dataset, test_size=0.2):\n",
    "    n = dataset.shape[0]\n",
    "    train_size = int(n * (1 - test_size))\n",
    "    return dataset.iloc[:train_size], dataset.iloc[train_size:]"
   ]
  },
  {
   "cell_type": "code",
   "execution_count": 33,
   "metadata": {},
   "outputs": [
    {
     "name": "stdout",
     "output_type": "stream",
     "text": [
      "(392, 14) (98, 14)\n"
     ]
    }
   ],
   "source": [
    "df_train, df_test = splitting(data_set_shuffle)\n",
    "print(df_train.shape, df_test.shape)"
   ]
  },
  {
   "cell_type": "markdown",
   "metadata": {},
   "source": [
    "### Data Standardization\n",
    "For some algorithms(decision tree and etc.), we do not need to standardize the data; however, for SVM, KNN and other models, we need to standardize the data.  The principle of data standardization is formulating below:\n",
    "\\begin{align}\n",
    "x^j{new} = \\frac{x^j{old}−x^j{mean}}{x^j{sd}}, \\quad y_{new} = \\frac{y_{old}−y_{mean}}{y_{sd}},\n",
    "\\end{align}\n",
    "\n",
    "In our data set, we have both categorial variables and continous variables. For categorial variables, we do not need to standardize them because we already convert it into label encoding or one-hot encoding. We just need to standardize the rest continous variables.\n"
   ]
  },
  {
   "cell_type": "code",
   "execution_count": 34,
   "metadata": {},
   "outputs": [
    {
     "name": "stdout",
     "output_type": "stream",
     "text": [
      "[ 2.0593536   2.2798103   0.95403592 98.47265456  0.36378285 18.55529775\n",
      "  1.90977109  2.45866369  5.1243404  12.70379985]\n"
     ]
    }
   ],
   "source": [
    "df_train_b4scale= df_train.drop(['ratings','major','minor','class'],axis='columns')\n",
    "columns_b4scale=df_train_b4scale.columns\n",
    "scaler = StandardScaler()\n",
    "df_train_scale = pd.DataFrame(scaler.fit_transform(df_train_b4scale),columns=columns_b4scale)\n",
    "print(scaler.mean_)"
   ]
  },
  {
   "cell_type": "code",
   "execution_count": 35,
   "metadata": {
    "scrolled": true
   },
   "outputs": [
    {
     "data": {
      "text/html": [
       "<div>\n",
       "<style scoped>\n",
       "    .dataframe tbody tr th:only-of-type {\n",
       "        vertical-align: middle;\n",
       "    }\n",
       "\n",
       "    .dataframe tbody tr th {\n",
       "        vertical-align: top;\n",
       "    }\n",
       "\n",
       "    .dataframe thead th {\n",
       "        text-align: right;\n",
       "    }\n",
       "</style>\n",
       "<table border=\"1\" class=\"dataframe\">\n",
       "  <thead>\n",
       "    <tr style=\"text-align: right;\">\n",
       "      <th></th>\n",
       "      <th>radio_play</th>\n",
       "      <th>albums_sold</th>\n",
       "      <th>loudness</th>\n",
       "      <th>tempo</th>\n",
       "      <th>vocals</th>\n",
       "      <th>listen_count</th>\n",
       "      <th>length</th>\n",
       "      <th>instr</th>\n",
       "      <th>frequency</th>\n",
       "      <th>year</th>\n",
       "      <th>ratings</th>\n",
       "      <th>major</th>\n",
       "      <th>minor</th>\n",
       "      <th>class</th>\n",
       "    </tr>\n",
       "  </thead>\n",
       "  <tbody>\n",
       "    <tr>\n",
       "      <th>0</th>\n",
       "      <td>-0.639298</td>\n",
       "      <td>-0.970291</td>\n",
       "      <td>-1.151693</td>\n",
       "      <td>1.577447</td>\n",
       "      <td>-1.422087</td>\n",
       "      <td>-0.970572</td>\n",
       "      <td>-0.962199</td>\n",
       "      <td>-0.463700</td>\n",
       "      <td>-0.876636</td>\n",
       "      <td>0.450872</td>\n",
       "      <td>1.0</td>\n",
       "      <td>0.0</td>\n",
       "      <td>0.0</td>\n",
       "      <td>1.0</td>\n",
       "    </tr>\n",
       "    <tr>\n",
       "      <th>1</th>\n",
       "      <td>0.489864</td>\n",
       "      <td>-0.598762</td>\n",
       "      <td>0.146884</td>\n",
       "      <td>-1.286170</td>\n",
       "      <td>0.754001</td>\n",
       "      <td>-1.642777</td>\n",
       "      <td>-1.712818</td>\n",
       "      <td>-0.332170</td>\n",
       "      <td>-0.462561</td>\n",
       "      <td>0.306580</td>\n",
       "      <td>2.0</td>\n",
       "      <td>0.0</td>\n",
       "      <td>1.0</td>\n",
       "      <td>2.0</td>\n",
       "    </tr>\n",
       "    <tr>\n",
       "      <th>2</th>\n",
       "      <td>-1.503838</td>\n",
       "      <td>-0.869232</td>\n",
       "      <td>0.756387</td>\n",
       "      <td>0.100447</td>\n",
       "      <td>0.236029</td>\n",
       "      <td>-1.579645</td>\n",
       "      <td>-1.679730</td>\n",
       "      <td>-0.143435</td>\n",
       "      <td>0.619996</td>\n",
       "      <td>0.117320</td>\n",
       "      <td>1.0</td>\n",
       "      <td>1.0</td>\n",
       "      <td>0.0</td>\n",
       "      <td>1.0</td>\n",
       "    </tr>\n",
       "  </tbody>\n",
       "</table>\n",
       "</div>"
      ],
      "text/plain": [
       "   radio_play  albums_sold  loudness     tempo    vocals  listen_count  \\\n",
       "0   -0.639298    -0.970291 -1.151693  1.577447 -1.422087     -0.970572   \n",
       "1    0.489864    -0.598762  0.146884 -1.286170  0.754001     -1.642777   \n",
       "2   -1.503838    -0.869232  0.756387  0.100447  0.236029     -1.579645   \n",
       "\n",
       "     length     instr  frequency      year  ratings  major  minor  class  \n",
       "0 -0.962199 -0.463700  -0.876636  0.450872      1.0    0.0    0.0    1.0  \n",
       "1 -1.712818 -0.332170  -0.462561  0.306580      2.0    0.0    1.0    2.0  \n",
       "2 -1.679730 -0.143435   0.619996  0.117320      1.0    1.0    0.0    1.0  "
      ]
     },
     "execution_count": 35,
     "metadata": {},
     "output_type": "execute_result"
    }
   ],
   "source": [
    "df_train_scale = pd.concat([df_train_scale,df_train[['ratings','major','minor','class']]],axis='columns')\n",
    "df_train_scale.head(3)"
   ]
  },
  {
   "cell_type": "markdown",
   "metadata": {},
   "source": [
    "**Now, we have standardized the training set**"
   ]
  },
  {
   "cell_type": "code",
   "execution_count": 36,
   "metadata": {},
   "outputs": [
    {
     "data": {
      "text/html": [
       "<div>\n",
       "<style scoped>\n",
       "    .dataframe tbody tr th:only-of-type {\n",
       "        vertical-align: middle;\n",
       "    }\n",
       "\n",
       "    .dataframe tbody tr th {\n",
       "        vertical-align: top;\n",
       "    }\n",
       "\n",
       "    .dataframe thead th {\n",
       "        text-align: right;\n",
       "    }\n",
       "</style>\n",
       "<table border=\"1\" class=\"dataframe\">\n",
       "  <thead>\n",
       "    <tr style=\"text-align: right;\">\n",
       "      <th></th>\n",
       "      <th>major</th>\n",
       "      <th>minor</th>\n",
       "      <th>radio_play</th>\n",
       "      <th>ratings</th>\n",
       "      <th>albums_sold</th>\n",
       "      <th>loudness</th>\n",
       "      <th>tempo</th>\n",
       "      <th>vocals</th>\n",
       "      <th>listen_count</th>\n",
       "      <th>length</th>\n",
       "      <th>instr</th>\n",
       "      <th>frequency</th>\n",
       "      <th>year</th>\n",
       "      <th>class</th>\n",
       "    </tr>\n",
       "  </thead>\n",
       "  <tbody>\n",
       "    <tr>\n",
       "      <th>392</th>\n",
       "      <td>0.0</td>\n",
       "      <td>1.0</td>\n",
       "      <td>1.455736</td>\n",
       "      <td>0.0</td>\n",
       "      <td>2.640545</td>\n",
       "      <td>0.524734</td>\n",
       "      <td>103.033831</td>\n",
       "      <td>0.572939</td>\n",
       "      <td>21.408701</td>\n",
       "      <td>3.102367</td>\n",
       "      <td>2.318197</td>\n",
       "      <td>2.064388</td>\n",
       "      <td>13.163156</td>\n",
       "      <td>0.0</td>\n",
       "    </tr>\n",
       "    <tr>\n",
       "      <th>393</th>\n",
       "      <td>1.0</td>\n",
       "      <td>0.0</td>\n",
       "      <td>0.694307</td>\n",
       "      <td>2.0</td>\n",
       "      <td>2.102549</td>\n",
       "      <td>0.890871</td>\n",
       "      <td>107.600251</td>\n",
       "      <td>0.180799</td>\n",
       "      <td>19.502604</td>\n",
       "      <td>1.978201</td>\n",
       "      <td>2.856065</td>\n",
       "      <td>3.692331</td>\n",
       "      <td>11.447965</td>\n",
       "      <td>2.0</td>\n",
       "    </tr>\n",
       "    <tr>\n",
       "      <th>394</th>\n",
       "      <td>0.0</td>\n",
       "      <td>1.0</td>\n",
       "      <td>1.987664</td>\n",
       "      <td>2.0</td>\n",
       "      <td>1.915215</td>\n",
       "      <td>0.497587</td>\n",
       "      <td>123.955250</td>\n",
       "      <td>0.344418</td>\n",
       "      <td>12.970722</td>\n",
       "      <td>-0.008038</td>\n",
       "      <td>2.169155</td>\n",
       "      <td>4.315728</td>\n",
       "      <td>13.594937</td>\n",
       "      <td>1.0</td>\n",
       "    </tr>\n",
       "  </tbody>\n",
       "</table>\n",
       "</div>"
      ],
      "text/plain": [
       "     major  minor  radio_play  ratings  albums_sold  loudness       tempo  \\\n",
       "392    0.0    1.0    1.455736      0.0     2.640545  0.524734  103.033831   \n",
       "393    1.0    0.0    0.694307      2.0     2.102549  0.890871  107.600251   \n",
       "394    0.0    1.0    1.987664      2.0     1.915215  0.497587  123.955250   \n",
       "\n",
       "       vocals  listen_count    length     instr  frequency       year  class  \n",
       "392  0.572939     21.408701  3.102367  2.318197   2.064388  13.163156    0.0  \n",
       "393  0.180799     19.502604  1.978201  2.856065   3.692331  11.447965    2.0  \n",
       "394  0.344418     12.970722 -0.008038  2.169155   4.315728  13.594937    1.0  "
      ]
     },
     "execution_count": 36,
     "metadata": {},
     "output_type": "execute_result"
    }
   ],
   "source": [
    "df_test.head(3)"
   ]
  },
  {
   "cell_type": "code",
   "execution_count": 37,
   "metadata": {},
   "outputs": [],
   "source": [
    "df_test_b4scale= df_test.drop(['ratings','major','minor','class'],axis='columns')\n",
    "df_test_scale = pd.DataFrame(scaler.transform(df_test_b4scale),columns=columns_b4scale, index=df_test.index)"
   ]
  },
  {
   "cell_type": "code",
   "execution_count": 38,
   "metadata": {},
   "outputs": [
    {
     "name": "stdout",
     "output_type": "stream",
     "text": [
      "df_test_scale shape: (98, 14)\n"
     ]
    },
    {
     "data": {
      "text/html": [
       "<div>\n",
       "<style scoped>\n",
       "    .dataframe tbody tr th:only-of-type {\n",
       "        vertical-align: middle;\n",
       "    }\n",
       "\n",
       "    .dataframe tbody tr th {\n",
       "        vertical-align: top;\n",
       "    }\n",
       "\n",
       "    .dataframe thead th {\n",
       "        text-align: right;\n",
       "    }\n",
       "</style>\n",
       "<table border=\"1\" class=\"dataframe\">\n",
       "  <thead>\n",
       "    <tr style=\"text-align: right;\">\n",
       "      <th></th>\n",
       "      <th>radio_play</th>\n",
       "      <th>albums_sold</th>\n",
       "      <th>loudness</th>\n",
       "      <th>tempo</th>\n",
       "      <th>vocals</th>\n",
       "      <th>listen_count</th>\n",
       "      <th>length</th>\n",
       "      <th>instr</th>\n",
       "      <th>frequency</th>\n",
       "      <th>year</th>\n",
       "      <th>ratings</th>\n",
       "      <th>major</th>\n",
       "      <th>minor</th>\n",
       "      <th>class</th>\n",
       "    </tr>\n",
       "  </thead>\n",
       "  <tbody>\n",
       "    <tr>\n",
       "      <th>392</th>\n",
       "      <td>-0.568764</td>\n",
       "      <td>0.571041</td>\n",
       "      <td>-1.813160</td>\n",
       "      <td>0.313871</td>\n",
       "      <td>1.620264</td>\n",
       "      <td>0.665077</td>\n",
       "      <td>0.786802</td>\n",
       "      <td>-0.367410</td>\n",
       "      <td>-1.316260</td>\n",
       "      <td>0.382070</td>\n",
       "      <td>0.0</td>\n",
       "      <td>0.0</td>\n",
       "      <td>1.0</td>\n",
       "      <td>0.0</td>\n",
       "    </tr>\n",
       "    <tr>\n",
       "      <th>393</th>\n",
       "      <td>-1.286226</td>\n",
       "      <td>-0.280603</td>\n",
       "      <td>-0.266779</td>\n",
       "      <td>0.628102</td>\n",
       "      <td>-1.417511</td>\n",
       "      <td>0.220800</td>\n",
       "      <td>0.045146</td>\n",
       "      <td>1.039458</td>\n",
       "      <td>-0.615989</td>\n",
       "      <td>-1.044543</td>\n",
       "      <td>2.0</td>\n",
       "      <td>1.0</td>\n",
       "      <td>0.0</td>\n",
       "      <td>2.0</td>\n",
       "    </tr>\n",
       "    <tr>\n",
       "      <th>394</th>\n",
       "      <td>-0.067550</td>\n",
       "      <td>-0.577152</td>\n",
       "      <td>-1.927816</td>\n",
       "      <td>1.753547</td>\n",
       "      <td>-0.150011</td>\n",
       "      <td>-1.301665</td>\n",
       "      <td>-1.265253</td>\n",
       "      <td>-0.757248</td>\n",
       "      <td>-0.347830</td>\n",
       "      <td>0.741205</td>\n",
       "      <td>2.0</td>\n",
       "      <td>0.0</td>\n",
       "      <td>1.0</td>\n",
       "      <td>1.0</td>\n",
       "    </tr>\n",
       "  </tbody>\n",
       "</table>\n",
       "</div>"
      ],
      "text/plain": [
       "     radio_play  albums_sold  loudness     tempo    vocals  listen_count  \\\n",
       "392   -0.568764     0.571041 -1.813160  0.313871  1.620264      0.665077   \n",
       "393   -1.286226    -0.280603 -0.266779  0.628102 -1.417511      0.220800   \n",
       "394   -0.067550    -0.577152 -1.927816  1.753547 -0.150011     -1.301665   \n",
       "\n",
       "       length     instr  frequency      year  ratings  major  minor  class  \n",
       "392  0.786802 -0.367410  -1.316260  0.382070      0.0    0.0    1.0    0.0  \n",
       "393  0.045146  1.039458  -0.615989 -1.044543      2.0    1.0    0.0    2.0  \n",
       "394 -1.265253 -0.757248  -0.347830  0.741205      2.0    0.0    1.0    1.0  "
      ]
     },
     "execution_count": 38,
     "metadata": {},
     "output_type": "execute_result"
    }
   ],
   "source": [
    "df_test_scale = pd.concat([df_test_scale,df_test[['ratings','major','minor','class']]],axis='columns')\n",
    "print(\"df_test_scale shape:\",df_test_scale.shape)\n",
    "df_test_scale.head(3)"
   ]
  },
  {
   "cell_type": "markdown",
   "metadata": {},
   "source": [
    "**Now, we have scaled the test set according to the training set**  \n",
    "\n",
    "we have prepared two datasets: one is original pre-processed data set and another one is the normalized data set.  \n",
    "original pre-processed data set: **df_train, df_test**  \n",
    "normalized data set: **df_train_scale, df_test_scale**"
   ]
  },
  {
   "cell_type": "markdown",
   "metadata": {},
   "source": [
    "## Convert multi-class classification problem to binary classification problems\n",
    "\n",
    "In this project, we have 3 classes. We can reduce it to binary problem in two ways：  \n"
   ]
  },
  {
   "cell_type": "code",
   "execution_count": 39,
   "metadata": {},
   "outputs": [],
   "source": [
    "num_classes=3"
   ]
  },
  {
   "cell_type": "markdown",
   "metadata": {},
   "source": [
    "### One vs. all (one vs. rest)\n",
    "\n",
    "Perform $3$ different binary classifications, each of which discriminates between one class and the rest of the classes. In more detail, for $i∈\\{1,\\dotsc,3\\}$, consider the training set\n",
    "$$S_i = \\{(x_j, (-1)^{\\delta_{y_j \\ne i}}) \\vert (x_j,y_j)∈S\\}.$$\n",
    "For each i, we learn a binary predictor $h_i$ which should satisfy $h_i(x)=1$ if and only if $x$ belongs to class $i$. The multiclass problem is then solved by predicting according to the rule\n",
    "$$h(x) = \\text{argmax}_{i∈\\{1,\\dotsc,k\\}} h_i(x).$$\n",
    "In case there are several binary hypothesis predicting $1$, we try to use additional information about the confidence of each prediction (e.g. the distance to the decision boundary in a SVM).\n",
    "\n",
    "### One vs. one (all pairs)\n",
    "\n",
    "Perform $k(k-1)/2$ binary classifications, each of which discriminates between a pair of classes. In more detail, fix $i,j∈\\{1,…,k\\}$ and perform a binary classification between all the data points with label either $i$ or $j$. Finally, the multiclass classifier predicts by using the label with the highest number of \"wins\".  \n",
    "\n",
    "In this project, we need to perform 3 classifiers no mater which techniques we are implementing. However, we prefer O.v.O than O.v.A. because O.v.O is less computationally expensive than O.v.A in this problem and O.v.O do not need to deal with class imblance problem like 1:M that occurs in O.v.A  \n",
    "\n",
    "**To fecth label pairs (i,j), we use the below code**:"
   ]
  },
  {
   "cell_type": "code",
   "execution_count": 40,
   "metadata": {
    "scrolled": true
   },
   "outputs": [
    {
     "data": {
      "text/html": [
       "<div>\n",
       "<style scoped>\n",
       "    .dataframe tbody tr th:only-of-type {\n",
       "        vertical-align: middle;\n",
       "    }\n",
       "\n",
       "    .dataframe tbody tr th {\n",
       "        vertical-align: top;\n",
       "    }\n",
       "\n",
       "    .dataframe thead th {\n",
       "        text-align: right;\n",
       "    }\n",
       "</style>\n",
       "<table border=\"1\" class=\"dataframe\">\n",
       "  <thead>\n",
       "    <tr style=\"text-align: right;\">\n",
       "      <th></th>\n",
       "      <th>major</th>\n",
       "      <th>minor</th>\n",
       "      <th>radio_play</th>\n",
       "      <th>ratings</th>\n",
       "      <th>albums_sold</th>\n",
       "      <th>loudness</th>\n",
       "      <th>tempo</th>\n",
       "      <th>vocals</th>\n",
       "      <th>listen_count</th>\n",
       "      <th>length</th>\n",
       "      <th>instr</th>\n",
       "      <th>frequency</th>\n",
       "      <th>year</th>\n",
       "      <th>class</th>\n",
       "    </tr>\n",
       "  </thead>\n",
       "  <tbody>\n",
       "    <tr>\n",
       "      <th>1</th>\n",
       "      <td>0.0</td>\n",
       "      <td>1.0</td>\n",
       "      <td>2.579237</td>\n",
       "      <td>2.0</td>\n",
       "      <td>1.901564</td>\n",
       "      <td>0.988814</td>\n",
       "      <td>79.781995</td>\n",
       "      <td>0.461115</td>\n",
       "      <td>11.507241</td>\n",
       "      <td>-0.686436</td>\n",
       "      <td>2.331670</td>\n",
       "      <td>4.049010</td>\n",
       "      <td>13.072395</td>\n",
       "      <td>2.0</td>\n",
       "    </tr>\n",
       "    <tr>\n",
       "      <th>3</th>\n",
       "      <td>1.0</td>\n",
       "      <td>0.0</td>\n",
       "      <td>1.206245</td>\n",
       "      <td>0.0</td>\n",
       "      <td>1.394753</td>\n",
       "      <td>1.206734</td>\n",
       "      <td>92.440632</td>\n",
       "      <td>0.093513</td>\n",
       "      <td>21.772029</td>\n",
       "      <td>3.194584</td>\n",
       "      <td>2.381171</td>\n",
       "      <td>6.296839</td>\n",
       "      <td>12.965186</td>\n",
       "      <td>0.0</td>\n",
       "    </tr>\n",
       "    <tr>\n",
       "      <th>4</th>\n",
       "      <td>0.0</td>\n",
       "      <td>0.0</td>\n",
       "      <td>1.690596</td>\n",
       "      <td>0.0</td>\n",
       "      <td>1.161250</td>\n",
       "      <td>1.212787</td>\n",
       "      <td>95.079529</td>\n",
       "      <td>0.341664</td>\n",
       "      <td>15.246159</td>\n",
       "      <td>0.574466</td>\n",
       "      <td>2.556799</td>\n",
       "      <td>3.251634</td>\n",
       "      <td>12.376493</td>\n",
       "      <td>2.0</td>\n",
       "    </tr>\n",
       "    <tr>\n",
       "      <th>6</th>\n",
       "      <td>1.0</td>\n",
       "      <td>0.0</td>\n",
       "      <td>0.643674</td>\n",
       "      <td>2.0</td>\n",
       "      <td>3.523419</td>\n",
       "      <td>1.057684</td>\n",
       "      <td>94.909179</td>\n",
       "      <td>0.085579</td>\n",
       "      <td>23.711779</td>\n",
       "      <td>3.706452</td>\n",
       "      <td>2.690885</td>\n",
       "      <td>4.626975</td>\n",
       "      <td>11.992283</td>\n",
       "      <td>0.0</td>\n",
       "    </tr>\n",
       "  </tbody>\n",
       "</table>\n",
       "</div>"
      ],
      "text/plain": [
       "   major  minor  radio_play  ratings  albums_sold  loudness      tempo  \\\n",
       "1    0.0    1.0    2.579237      2.0     1.901564  0.988814  79.781995   \n",
       "3    1.0    0.0    1.206245      0.0     1.394753  1.206734  92.440632   \n",
       "4    0.0    0.0    1.690596      0.0     1.161250  1.212787  95.079529   \n",
       "6    1.0    0.0    0.643674      2.0     3.523419  1.057684  94.909179   \n",
       "\n",
       "     vocals  listen_count    length     instr  frequency       year  class  \n",
       "1  0.461115     11.507241 -0.686436  2.331670   4.049010  13.072395    2.0  \n",
       "3  0.093513     21.772029  3.194584  2.381171   6.296839  12.965186    0.0  \n",
       "4  0.341664     15.246159  0.574466  2.556799   3.251634  12.376493    2.0  \n",
       "6  0.085579     23.711779  3.706452  2.690885   4.626975  11.992283    0.0  "
      ]
     },
     "execution_count": 40,
     "metadata": {},
     "output_type": "execute_result"
    }
   ],
   "source": [
    "df_train.iloc[np.where(df_train['class']!=1)[0].tolist()].head(4)"
   ]
  },
  {
   "cell_type": "code",
   "execution_count": 41,
   "metadata": {},
   "outputs": [
    {
     "data": {
      "text/plain": [
       "Counter({1.0: 133, 2.0: 130, 0.0: 129})"
      ]
     },
     "execution_count": 41,
     "metadata": {},
     "output_type": "execute_result"
    }
   ],
   "source": [
    "Counter(df_train['class'])"
   ]
  },
  {
   "cell_type": "markdown",
   "metadata": {},
   "source": [
    "**Now, we have convert the multi-class classifciation problem to binary classifciation problems by using OvO**"
   ]
  },
  {
   "cell_type": "markdown",
   "metadata": {},
   "source": [
    "### Hard voting vs Soft voting\n",
    "In **hard voting** (also known as **majority voting**), every individual classifier votes for a class, and the majority wins. In statistical terms, the predicted target label of the ensemble is the mode of the distribution of individually predicted labels.  \n",
    "In **soft voting**, every individual classifier provides a probability value that a specific data point belongs to a particular target class. The predictions are weighted by the classifier's importance and summed up. Then the target label with the greatest sum of weighted probabilities wins the vote.  \n",
    "\n",
    "Soft voting often achieves higher performance than hard voting because it gives more weight to highly confident votes.  **In this project, we use soft voting for all the models**."
   ]
  },
  {
   "cell_type": "markdown",
   "metadata": {},
   "source": [
    "# Model implementations"
   ]
  },
  {
   "cell_type": "markdown",
   "metadata": {},
   "source": [
    "### Model 1: Decision Tree\n",
    "In decision tree model, we do not need to normalize data, thus, we use data set:**df_train** and **df_test**."
   ]
  },
  {
   "cell_type": "code",
   "execution_count": 42,
   "metadata": {},
   "outputs": [],
   "source": [
    "from sklearn.tree import DecisionTreeClassifier\n",
    "\n",
    "def myDecisionTreeCLF_train(dataset, max_depth=3, min_samples_split=8 ,max_features=None):\n",
    "#     print(\"max_feature = \",max_features)\n",
    "#     print(\"max_depth = \",max_depth)\n",
    "#     print(\"min_samples_split = \",min_samples_split)\n",
    "    decisiontree_clf_list=[]\n",
    "    for i in range(num_classes):\n",
    "#         print('\\nThe %d/%dth decision tree classifier training...' % (i+1, num_classes))\n",
    "#         if i==0:\n",
    "#             print('dealing with label pair (1, 2) ')\n",
    "#         elif i==1:\n",
    "#             print('dealing with label pair (0, 2) ')\n",
    "#         else:\n",
    "#             print('dealing with label pair (0, 1) ')\n",
    "        training_set = dataset.iloc[np.where(dataset['class']!=i)[0].tolist()].values\n",
    "        X_tr=training_set[:,:-1]\n",
    "        Y_tr=training_set[:,-1:]\n",
    "        decisiontree_clf = DecisionTreeClassifier(max_depth=max_depth, \n",
    "                                                  max_features=max_features,\n",
    "                                                  min_samples_split=min_samples_split).fit(X_tr,Y_tr)\n",
    "        decisiontree_clf_list.append(decisiontree_clf)\n",
    "    return decisiontree_clf_list\n",
    "\n",
    "def myDecisionTreeCLF_predict(testset, clf_list, probablity=True):\n",
    "    predicted_res=np.zeros((testset.shape[0],3))\n",
    "    for i in range(num_classes):\n",
    "#         print('\\nThe %d/%dth decision tree classifier is predicting...' % (i+1, num_classes))\n",
    "        y_predict_prob = clf_list[i].predict_proba(testset.iloc[:,:-1].values)\n",
    "        # soft voting\n",
    "        if i==0:            # 1 VS 2： need add 0\n",
    "            c1,c2 = np.split(y_predict_prob, 2, axis=1)\n",
    "            predicted_res += np.hstack((np.zeros(c1.shape),c1,c2))\n",
    "            \n",
    "        elif i==1:            # 0 VS 2： need add 1\n",
    "            c1,c2 = np.split(y_predict_prob, 2, axis=1)\n",
    "            predicted_res += np.hstack((c1,np.zeros(c1.shape),c2))\n",
    "            \n",
    "        else:# 0 VS 1： need add 2\n",
    "            c1,c2 = np.split(y_predict_prob, 2, axis=1)\n",
    "            predicted_res += np.hstack((c1,c2,np.zeros(c1.shape)))\n",
    "    \n",
    "    if probablity:\n",
    "        return predicted_res/3\n",
    "    else:\n",
    "        return np.argmax(predicted_res/3,axis=1)"
   ]
  },
  {
   "cell_type": "markdown",
   "metadata": {},
   "source": [
    "Now, we are finishing on building Decision Tree model, our Decision Tree Classifier can handle 3 classes problem by training 3 individual classifier that each classifier work on its own label pairs such as (1,2), (0,2), (0,1). In the Decision Tree model, the max_features is set to **None** which implys **max_features=n_features**.   \n",
    "In our Decision Tree Classifier, the final result is based on a soft vote strategy.\n",
    "The setting **probablity** contronls the final result. If set to **True**, the model returns you the predicted probablity for each class. If it is set to **False**, the model picks the class with the highest probablity and return you the class label."
   ]
  },
  {
   "cell_type": "markdown",
   "metadata": {},
   "source": [
    "### Model 2: Random Forest\n",
    "In Random Forest model, we do not need to normalize data, thus, we use Data set:**df_train** and **df_test**.  \n",
    "Although Random Forest and Decision Tree are two distinct models, they have some similiarities. The Random Forest build multiple completely independently bagged trees by bootstrapping the sample of our data for each tree. Additionaly, instead of looking for the best split from all features for each node, the algorithm randomly selects a subset of the features, and it looks for the best split from this subset. The number of features that are selected is controlled by the max_features parameter. This selection of a subset of features is repeated separately in each node, so that each node in a tree can make a decision using a different subset of the features.  \n",
    "In Decision Tree, the Max_feature is the number of features to consider each time to make the split decision. Let us say the the dimension of your data is 50 and the max_feature is 10, each time you need to find the split, you randomly select 10 features and use them to decide which one of the 10 is the best feature to use. When you go to the next node you will select randomly another 10 and so on.\n",
    "Thus, **we can take advantage of our previous code and build Random Forest based on our Decision Tree Model.**"
   ]
  },
  {
   "cell_type": "code",
   "execution_count": 43,
   "metadata": {},
   "outputs": [],
   "source": [
    "# bagged N samples\n",
    "def get_baggedsamples(dataSet_df,n):\n",
    "    subDataSet=[]\n",
    "    for i in range(n):\n",
    "        index=[]\n",
    "        for k in range(len(dataSet_df)):\n",
    "            index.append(np.random.randint(len(dataSet_df)))\n",
    "        subDataSet.append(dataSet_df.iloc[index,:])\n",
    "#         subDataSet.append(dataSet_np[index,:])\n",
    "    return subDataSet\n",
    "# Check bagged Data Set\n",
    "# resk = Counter(D1['tempo'])\n",
    "# sorted_resk = sorted(resk.items(), key=operator.itemgetter(1))\n",
    "# sorted_resk[-40:]"
   ]
  },
  {
   "cell_type": "code",
   "execution_count": 44,
   "metadata": {},
   "outputs": [],
   "source": [
    "def myRandomForestCLF_train(dataset, n_estimators=10, max_depth=3, max_features=11):\n",
    "    baggedsamples=get_baggedsamples(dataset,n_estimators)\n",
    "    baggedtree_clf_list=[]\n",
    "#    print(\"generating %d trees in Random Forest Model\"%n_estimators)\n",
    "    for i in range(n_estimators):\n",
    "#        print('\\nThe %d/%dth baggedtree(estimator) is learning...' % (i+1, n_estimators))\n",
    "        training_set = baggedsamples[i]\n",
    "        baggedtree_clf = myDecisionTreeCLF_train(training_set,max_depth=max_depth,max_features=max_features)\n",
    "        baggedtree_clf_list.append(baggedtree_clf)\n",
    "    return baggedtree_clf_list\n",
    "\n",
    "def myRandomForestCLF_predict(testset, baggedtree_clf_list,rf_probablity=True):\n",
    "    no_of_esimator = len(baggedtree_clf_list)\n",
    "    predicted_res=np.zeros((testset.shape[0],3))\n",
    "    for i in range(no_of_esimator):\n",
    "#        print('\\nThe %d/%dth estimator is predicting...' % (i+1, no_of_esimator))\n",
    "        baggedtree_clf=baggedtree_clf_list[i]\n",
    "        y_predict_prob = myDecisionTreeCLF_predict(testset, baggedtree_clf,probablity=True)\n",
    "        # soft voting\n",
    "        predicted_res += y_predict_prob\n",
    "        \n",
    "    if rf_probablity:\n",
    "        return predicted_res/no_of_esimator\n",
    "    else:\n",
    "        return np.argmax(predicted_res/no_of_esimator,axis=1)\n",
    "#     return predicted_res/no_of_esimator"
   ]
  },
  {
   "cell_type": "markdown",
   "metadata": {},
   "source": [
    "### Model 3: GradientBoostingClassifier\n",
    "Similar to Random Forest models, gradient boosting classifier generates a sequence of trees by sampling from the dataset without replacement and also resampled from the result of previous tree. Thus, each tree is dependent in gradient boosting.  \n",
    "In GradientBoosting model, we do not need to normalize data, thus, we use Data set:**df_train** and **df_test**."
   ]
  },
  {
   "cell_type": "code",
   "execution_count": 45,
   "metadata": {},
   "outputs": [],
   "source": [
    "from sklearn.ensemble import GradientBoostingClassifier\n",
    "\n",
    "def myGradientBoostingCLF_train(dataset, n_estimators=10, max_depth=3, min_samples_split=2,random_state=0):\n",
    "    gb_clf_list=[]\n",
    "    for i in range(num_classes):\n",
    "        training_set = dataset.iloc[np.where(dataset['class']!=i)[0].tolist()].values\n",
    "        X_tr=training_set[:,:-1]\n",
    "        Y_tr=training_set[:,-1:]\n",
    "        gb_clf = GradientBoostingClassifier(n_estimators=n_estimators, max_depth=max_depth, \n",
    "                                            min_samples_split=min_samples_split,  \n",
    "                                            random_state=random_state).fit(X_tr,Y_tr)\n",
    "        gb_clf_list.append(gb_clf)\n",
    "    return gb_clf_list\n",
    "\n",
    "def myGradientBoostingCLF_predict(testset, clf_list, probablity=True):\n",
    "    predicted_res=np.zeros((testset.shape[0],3))\n",
    "    for i in range(num_classes):\n",
    "        y_predict_prob = clf_list[i].predict_proba(testset.iloc[:,:-1].values)\n",
    "        # soft voting\n",
    "        if i==0: # 1 VS 2： need add 0\n",
    "            c1,c2 = np.split(y_predict_prob, 2, axis=1)\n",
    "            predicted_res += np.hstack((np.zeros(c1.shape),c1,c2))\n",
    "            \n",
    "        elif i==1:# 0 VS 2： need add 1\n",
    "            c1,c2 = np.split(y_predict_prob, 2, axis=1)\n",
    "            predicted_res += np.hstack((c1,np.zeros(c1.shape),c2))\n",
    "            \n",
    "        else:# 0 VS 1： need add 2\n",
    "            c1,c2 = np.split(y_predict_prob, 2, axis=1)\n",
    "            predicted_res += np.hstack((c1,c2,np.zeros(c1.shape)))\n",
    "    \n",
    "    if probablity:\n",
    "        return predicted_res/3\n",
    "    else:\n",
    "        return np.argmax(predicted_res/3,axis=1)"
   ]
  },
  {
   "cell_type": "markdown",
   "metadata": {},
   "source": [
    "### Model 4: Support Vector Machine(SVM)\n",
    "Support vector machine is another useful and robust classifier. It works with standardized data(0 to 1, or -1 to 1, roughly). Thus, we need to use normalized data set:**df_train_scale** and **df_test_scale**."
   ]
  },
  {
   "cell_type": "code",
   "execution_count": 46,
   "metadata": {},
   "outputs": [],
   "source": [
    "def mySVMCLF_train(dataset, C=1.0, kernel='rbf'):\n",
    "    svm_clf_list=[]\n",
    "    for i in range(num_classes):\n",
    "        training_set = dataset.iloc[np.where(dataset['class']!=i)[0].tolist()].values\n",
    "        X_tr=training_set[:,:-1]\n",
    "        Y_tr=training_set[:,-1:]\n",
    "        svm_clf = svm.SVC(C = C, gamma='auto',kernel=kernel ,\n",
    "                          probability=True).fit(X_tr,Y_tr)\n",
    "        svm_clf_list.append(svm_clf)\n",
    "    return svm_clf_list\n",
    "\n",
    "def mySVMCLF_predict(testset, clf_list, probablity=True):\n",
    "    predicted_res=np.zeros((testset.shape[0],3))\n",
    "    for i in range(num_classes):\n",
    "        y_predict_prob = clf_list[i].predict_proba(testset.iloc[:,:-1].values)\n",
    "        if i==0:# 1 VS 2： need add 0\n",
    "            c1,c2 = np.split(y_predict_prob, 2, axis=1)\n",
    "            predicted_res += np.hstack((np.zeros(c1.shape),c1,c2))\n",
    "        elif i==1:            # 0 VS 2： need add 1\n",
    "            c1,c2 = np.split(y_predict_prob, 2, axis=1)\n",
    "            predicted_res += np.hstack((c1,np.zeros(c1.shape),c2))\n",
    "        else:            # 0 VS 1： need add 2\n",
    "            c1,c2 = np.split(y_predict_prob, 2, axis=1)\n",
    "            predicted_res += np.hstack((c1,c2,np.zeros(c1.shape)))\n",
    "    if probablity:\n",
    "        return predicted_res/3\n",
    "    else:\n",
    "        return np.argmax(predicted_res/3,axis=1)"
   ]
  },
  {
   "cell_type": "markdown",
   "metadata": {},
   "source": [
    "### Model 5: K-nearest neighbors(KNN)\n",
    "\n",
    "In k-nearest neighbors, we need to caculate the distances between pairs of samples. Those features with larger values have more impact on the distance. To compare the distance in the same scale, we should normalize the features. Thus, we use Data set:**df_train_scale** and **df_test_scale**."
   ]
  },
  {
   "cell_type": "code",
   "execution_count": 47,
   "metadata": {},
   "outputs": [],
   "source": [
    "from sklearn.neighbors import KNeighborsClassifier\n",
    "\n",
    "def myKNNCLF_train(dataset, n_neighbors=5):\n",
    "    knn_clf_list=[]\n",
    "    for i in range(num_classes):\n",
    "        training_set = dataset.iloc[np.where(dataset['class']!=i)[0].tolist()].values\n",
    "        X_tr=training_set[:,:-1]\n",
    "        Y_tr=training_set[:,-1:]\n",
    "        knn_clf = KNeighborsClassifier(n_neighbors=n_neighbors).fit(X_tr,Y_tr)\n",
    "        knn_clf_list.append(knn_clf)\n",
    "    return knn_clf_list\n",
    "\n",
    "def myKNNCLF_predict(testset, clf_list, probablity=True):\n",
    "    predicted_res=np.zeros((testset.shape[0],3))\n",
    "    for i in range(num_classes):\n",
    "        y_predict_prob = clf_list[i].predict_proba(testset.iloc[:,:-1].values)\n",
    "        if i==0:# 1 VS 2： need add 0\n",
    "            c1,c2 = np.split(y_predict_prob, 2, axis=1)\n",
    "            predicted_res += np.hstack((np.zeros(c1.shape),c1,c2))\n",
    "        elif i==1:            # 0 VS 2： need add 1\n",
    "            c1,c2 = np.split(y_predict_prob, 2, axis=1)\n",
    "            predicted_res += np.hstack((c1,np.zeros(c1.shape),c2))\n",
    "        else:            # 0 VS 1： need add 2\n",
    "            c1,c2 = np.split(y_predict_prob, 2, axis=1)\n",
    "            predicted_res += np.hstack((c1,c2,np.zeros(c1.shape)))\n",
    "    if probablity:\n",
    "        return predicted_res/3\n",
    "    else:\n",
    "        return np.argmax(predicted_res/3,axis=1)"
   ]
  },
  {
   "cell_type": "markdown",
   "metadata": {},
   "source": [
    "### Model 6: Logistic regression\n",
    "Logistic regression also can be used to solve a binary classification problem. \n",
    "In our case, normalization is necessary when doing logistic regression with regularization. Hence, we use Data set:**df_train_scale** and **df_test_scale**."
   ]
  },
  {
   "cell_type": "code",
   "execution_count": 48,
   "metadata": {},
   "outputs": [],
   "source": [
    "from sklearn.linear_model import LogisticRegression\n",
    "def myLogisticRCLF_train(dataset, C = 1.0):\n",
    "    lr_clf_list=[]\n",
    "    for i in range(num_classes):\n",
    "        training_set = dataset.iloc[np.where(dataset['class']!=i)[0].tolist()].values\n",
    "        X_tr=training_set[:,:-1]\n",
    "        Y_tr=training_set[:,-1:]\n",
    "        lr_clf = LogisticRegression(C=C).fit(X_tr,Y_tr)\n",
    "        lr_clf_list.append(lr_clf)\n",
    "    return lr_clf_list\n",
    "\n",
    "def myLogisticRCLF_predict(testset, clf_list, probablity=True):\n",
    "    predicted_res=np.zeros((testset.shape[0],3))\n",
    "    for i in range(num_classes):\n",
    "        y_predict_prob = clf_list[i].predict_proba(testset.iloc[:,:-1].values)\n",
    "        if i==0:            # 1 VS 2： need add 0\n",
    "            c1,c2 = np.split(y_predict_prob, 2, axis=1)\n",
    "            predicted_res += np.hstack((np.zeros(c1.shape),c1,c2))\n",
    "        elif i==1: # 0 VS 2： need add 1\n",
    "            c1,c2 = np.split(y_predict_prob, 2, axis=1)\n",
    "            predicted_res += np.hstack((c1,np.zeros(c1.shape),c2))\n",
    "        else:# 0 VS 1： need add 2\n",
    "            c1,c2 = np.split(y_predict_prob, 2, axis=1)\n",
    "            predicted_res += np.hstack((c1,c2,np.zeros(c1.shape)))\n",
    "    if probablity:\n",
    "        return predicted_res/3\n",
    "    else:\n",
    "        return np.argmax(predicted_res/3,axis=1)"
   ]
  },
  {
   "cell_type": "markdown",
   "metadata": {},
   "source": [
    "### Model 7: Neural Network\n",
    "Neural networks are great for learning nonlinear functions. In our project, the dataset is not very hugh, thus, we only need to build a shallow neural network with one hidden layer."
   ]
  },
  {
   "cell_type": "markdown",
   "metadata": {},
   "source": [
    "**Define activation function**  \n",
    "The choices of activation function are many:  \n",
    "1. the logistic function $$\\sigma(a)=\\frac{1}{1+\\exp(-a)},$$\n",
    "2. the hyperbolic tangent function $$ \\tanh(a)=\\frac{e^a - e^{-a}}{e^a + e^{-a}},$$\n",
    "3. the rectified linear unit (relu) function $$ \\text{relu}(a)=\\max \\{0,a\\}.$$\n",
    "\n",
    "We prefer RELU because it is simple and fast to compute."
   ]
  },
  {
   "cell_type": "code",
   "execution_count": 49,
   "metadata": {},
   "outputs": [
    {
     "data": {
      "image/png": "[encoded data removed]",
      "text/plain": [
       "<Figure size 432x288 with 1 Axes>"
      ]
     },
     "metadata": {
      "needs_background": "light"
     },
     "output_type": "display_data"
    }
   ],
   "source": [
    "plt.plot(np.maximum(np.linspace(-3, 3, 100), 0), label=\"relu\")\n",
    "plt.legend(loc=\"best\")\n",
    "plt.show()"
   ]
  },
  {
   "cell_type": "code",
   "execution_count": 50,
   "metadata": {},
   "outputs": [],
   "source": [
    "def relu(Z):\n",
    "    \"\"\"\n",
    "    Arguments:\n",
    "    Z -- Output of the linear layer \n",
    "    \n",
    "    Returns:\n",
    "    A -- Post-activation parameter, of the same shape as Z\n",
    "    cache -- a python dictionary containing \"A\" ; stored for computing the backward pass efficiently\n",
    "    \"\"\"\n",
    "    A = np.maximum(0,Z)\n",
    "    cache = Z \n",
    "    return A, cache"
   ]
  },
  {
   "cell_type": "markdown",
   "metadata": {},
   "source": [
    "In Neural Network, it usually solve multi-class classification problem by involving \n",
    "**softmax** and **cross entropy** loss function in stead of working on OvO or OVA. Thus, we define it as below:  \n",
    "1. $$\\text{cross entropy loss} =   - {\\sum_{i} y_i \\log\\left( a_i \\right) }.$$\n",
    "2. $$\\text{softmax} (z)_i = \\frac{e^{z_i}}{\\sum_{j=1}^{K} e^{z_j}}, \\quad i=1,\\dots,K, \\quad z=(z_1,\\dots,z_k) \\in \\mathbb{R}^k.$$\n",
    "\n"
   ]
  },
  {
   "cell_type": "code",
   "execution_count": 51,
   "metadata": {},
   "outputs": [],
   "source": [
    "def softmax(Z):\n",
    "    \"\"\"\n",
    "    softmax activation\n",
    "    Arguments:\n",
    "    Z -- numpy array of any shape\n",
    "\n",
    "    Returns:\n",
    "    A -- output of softmax(z), same shape as Z\n",
    "    cache -- returns Z as well, useful during backpropagation\n",
    "    \"\"\"\n",
    "    Z_shift = Z - np.max(Z, axis = 0)\n",
    "    A = np.exp(Z_shift)/ np.sum(np.exp(Z_shift), axis=0)\n",
    "    cache = Z_shift\n",
    "    return A, cache"
   ]
  },
  {
   "cell_type": "markdown",
   "metadata": {},
   "source": [
    "**Cross entropy loss function**"
   ]
  },
  {
   "cell_type": "code",
   "execution_count": 52,
   "metadata": {},
   "outputs": [],
   "source": [
    "def compute_cost(AL, Y):\n",
    "    \"\"\"\n",
    "    Arguments:\n",
    "    AL -- probability matrix corresponding to your label predictions, shape (classes, number of examples)\n",
    "    Y -- true \"label\" matrix, shape (classes, number of examples)\n",
    "\n",
    "    Returns:\n",
    "    cost -- softmax cross-entropy cost\n",
    "    \"\"\"\n",
    "    m = Y.shape[1]\n",
    "    cost = -(np.sum(Y * np.log(AL))) / float(m)\n",
    "    return cost"
   ]
  },
  {
   "cell_type": "markdown",
   "metadata": {},
   "source": [
    "**Parameter initialization**  \n",
    "To start training, we need to choose initial values for the weights and biases.\n",
    "An initialization for the weights and the biases with all being equal to zero will lead all hidden neurons to have the same weights. Starting instead with large weights often leads to poor solutions. So, we will initialize the weights and biases close to zero by using a Gaussian distribution with mean 0 and variance 1.\n",
    "Note that in our shallow network, we only specify the weights and biases for two layers and we do not set biases for the input layer."
   ]
  },
  {
   "cell_type": "code",
   "execution_count": 53,
   "metadata": {},
   "outputs": [],
   "source": [
    "def initialize_parameters(n_x, n_h, n_y):\n",
    "    \"\"\"\n",
    "    Argument:\n",
    "    n_x -- size of the input layer\n",
    "    n_h -- size of the hidden layer\n",
    "    n_y -- size of the output layer\n",
    "    \n",
    "    Returns:\n",
    "    parameters -- python dictionary containing your parameters:\n",
    "                    W1 -- weight matrix of shape (n_h, n_x)\n",
    "                    b1 -- bias vector of shape (n_h, 1)\n",
    "                    W2 -- weight matrix of shape (n_y, n_h)\n",
    "                    b2 -- bias vector of shape (n_y, 1)\n",
    "    \"\"\"\n",
    "    np.random.seed(1)\n",
    "    \n",
    "    W1 = np.random.randn(n_h, n_x) * 0.01   # weight matrix random init\n",
    "    b1 = np.zeros((n_h, 1))                 # bias vector random init\n",
    "    W2 = np.random.randn(n_y, n_h) * 0.01\n",
    "    b2 = np.zeros((n_y, 1))\n",
    "    \n",
    "    assert(W1.shape == (n_h, n_x))\n",
    "    assert(b1.shape == (n_h, 1))\n",
    "    assert(W2.shape == (n_y, n_h))\n",
    "    assert(b2.shape == (n_y, 1))\n",
    "    \n",
    "    parameters = {\"W1\": W1,\n",
    "                  \"b1\": b1,\n",
    "                  \"W2\": W2,\n",
    "                  \"b2\": b2}\n",
    "    return parameters"
   ]
  },
  {
   "cell_type": "markdown",
   "metadata": {},
   "source": [
    "**Forward propagation module**  \n",
    "The linear forward module (vectorized over all the examples) computes the following equations:\n",
    "$$Z^{[l]} = W^{[l]}A^{[l-1]} +b^{[l]}$$\n",
    "where $A^{[0]} = X$."
   ]
  },
  {
   "cell_type": "code",
   "execution_count": 54,
   "metadata": {},
   "outputs": [],
   "source": [
    "def linear_forward(A, W, b):\n",
    "    \"\"\"\n",
    "    Implement the linear part of a layer's forward propagation.\n",
    "\n",
    "    Arguments:\n",
    "    A -- activations from previous layer (or input data): (size of previous layer, number of examples)\n",
    "    W -- weights matrix: numpy array of shape (size of current layer, size of previous layer)\n",
    "    b -- bias vector, numpy array of shape (size of the current layer, 1)\n",
    "\n",
    "    Returns:\n",
    "    Z -- the input of the activation function, also called pre-activation parameter \n",
    "    cache -- a python dictionary containing \"A\", \"W\" and \"b\" ; stored for computing the backward pass efficiently\n",
    "    \"\"\"\n",
    "    Z = np.dot(W, A) + b\n",
    "    cache = (A, W, b)\n",
    "    return Z, cache"
   ]
  },
  {
   "cell_type": "markdown",
   "metadata": {},
   "source": [
    "Implement the forward propagation of the LINEAR->ACTIVATION layer. Mathematical relation is:  \n",
    "$$A^{[l]} = g(Z^{[l]}) = g(W^{[l]}A^{[l-1]} +b^{[l]})$$\n",
    "where the activation \"g\" can be softmax() or relu()."
   ]
  },
  {
   "cell_type": "code",
   "execution_count": 55,
   "metadata": {},
   "outputs": [],
   "source": [
    "def linear_activation_forward(A_prev, W, b, activation):\n",
    "    \"\"\"\n",
    "    Implement the forward propagation for the LINEAR->ACTIVATION layer\n",
    "\n",
    "    Arguments:\n",
    "    A_prev -- activations from previous layer (or input data): (size of previous layer, number of examples)\n",
    "    W -- weights matrix: numpy array of shape (size of current layer, size of previous layer)\n",
    "    b -- bias vector, numpy array of shape (size of the current layer, 1)\n",
    "    activation -- the activation to be used in this layer, stored as a text string: \"softmax\" or \"relu\"\n",
    "\n",
    "    Returns:\n",
    "    A -- the output of the activation function, also called the post-activation value \n",
    "    cache -- a python dictionary containing \"linear_cache\" and \"activation_cache\";\n",
    "             stored for computing the backward pass efficiently\n",
    "    \"\"\"\n",
    "    \n",
    "    if activation == \"softmax\":\n",
    "        # Inputs: \"A_prev, W, b\". Outputs: \"A, activation_cache\".\n",
    "        Z, linear_cache = linear_forward(A_prev, W, b)\n",
    "        A, activation_cache = softmax(Z)\n",
    "      \n",
    "    elif activation == \"relu\":\n",
    "        # Inputs: \"A_prev, W, b\". Outputs: \"A, activation_cache\".\n",
    "        Z, linear_cache = linear_forward(A_prev, W, b)\n",
    "        A, activation_cache = relu(Z)\n",
    "    \n",
    "    cache = (linear_cache, activation_cache)\n",
    "    return A, cache"
   ]
  },
  {
   "cell_type": "markdown",
   "metadata": {},
   "source": [
    "**Backward propagation**"
   ]
  },
  {
   "cell_type": "code",
   "execution_count": 56,
   "metadata": {},
   "outputs": [],
   "source": [
    "def linear_backward(dZ, cache):\n",
    "    \"\"\"\n",
    "    Implement the linear portion of backward propagation for a single layer (layer l)\n",
    "\n",
    "    Arguments:\n",
    "    dZ -- Gradient of the cost with respect to the linear output (of current layer l)\n",
    "    cache -- tuple of values (A_prev, W, b) coming from the forward propagation in the current layer\n",
    "\n",
    "    Returns:\n",
    "    dA_prev -- Gradient of the cost with respect to the activation (of the previous layer l-1), same shape as A_prev\n",
    "    dW -- Gradient of the cost with respect to W (current layer l), same shape as W\n",
    "    db -- Gradient of the cost with respect to b (current layer l), same shape as b\n",
    "    \"\"\"\n",
    "    A_prev, W, b = cache\n",
    "    m = A_prev.shape[1]\n",
    "\n",
    "    dW = np.dot(dZ, A_prev.T) / float(m)\n",
    "    db = np.sum(dZ, axis=1, keepdims=True) / float(m)\n",
    "    dA_prev = np.dot(W.T, dZ)\n",
    "    return dA_prev, dW, db\n",
    "\n",
    "def relu_backward(dA, cache):\n",
    "    \"\"\"\n",
    "    Implement the backward propagation for a single RELU unit.\n",
    "\n",
    "    Arguments:\n",
    "    dA -- post-activation gradient, of any shape\n",
    "    cache -- 'Z' where we store for computing backward propagation efficiently\n",
    "\n",
    "    Returns:\n",
    "    dZ -- Gradient of the cost with respect to Z\n",
    "    \"\"\"\n",
    "    Z = cache\n",
    "    dZ = np.array(dA, copy=True)  # just converting dz to a correct object.\n",
    "    \n",
    "    # When z <= 0, you should set dz to 0 as well. \n",
    "    dZ[Z <= 0] = 0\n",
    "    return dZ\n",
    "\n",
    "def softmax_backward(Y, cache):\n",
    "    \"\"\"\n",
    "    dL/dZ = （dL/dA） * （dA/dZ）\n",
    "\n",
    "    Arguments:\n",
    "    Y -- true \"label\" matrix, shape (classes, number of examples)\n",
    "    cache -- 'Z' where we store for computing backward propagation efficiently\n",
    "\n",
    "    Returns:\n",
    "    dZ -- Gradient of the cost with respect to Z\n",
    "    \"\"\"\n",
    "    Z = cache  #Z_shift\n",
    "    s = np.exp(Z)/ np.sum(np.exp(Z), axis=0)\n",
    "    dZ = s - Y\n",
    "    return dZ\n",
    "\n",
    "def linear_activation_backward(dA, cache, activation):\n",
    "    \"\"\"\n",
    "    Implement the backward propagation for the LINEAR->ACTIVATION layer.\n",
    "    \n",
    "    Arguments:\n",
    "    dA -- post-activation gradient for hidden layer or Y for outputlayer!!!\n",
    "    cache -- tuple of values (linear_cache, activation_cache) we store for computing backward propagation efficiently\n",
    "    activation -- the activation to be used in this layer, stored as a text string: \"sigmoid\" or \"relu\"\n",
    "    \n",
    "    Returns:\n",
    "    dA_prev -- Gradient of the cost with respect to the activation (of the previous layer l-1), same shape as A_prev\n",
    "    dW -- Gradient of the cost with respect to W (current layer l), same shape as W\n",
    "    db -- Gradient of the cost with respect to b (current layer l), same shape as b\n",
    "    \"\"\"\n",
    "    linear_cache, activation_cache = cache\n",
    "    \n",
    "    if activation == \"relu\":\n",
    "        dZ = relu_backward(dA, activation_cache)\n",
    "        dA_prev, dW, db = linear_backward(dZ, linear_cache)\n",
    " \n",
    "    elif activation == \"softmax\":\n",
    "        dZ = softmax_backward(dA, activation_cache)\n",
    "        dA_prev, dW, db = linear_backward(dZ, linear_cache)\n",
    "\n",
    "    return dA_prev, dW, db"
   ]
  },
  {
   "cell_type": "markdown",
   "metadata": {},
   "source": [
    "**Parameters update**  "
   ]
  },
  {
   "cell_type": "code",
   "execution_count": 57,
   "metadata": {},
   "outputs": [],
   "source": [
    "def update_parameters(parameters, grads, learning_rate):\n",
    "    \"\"\"\n",
    "    Update parameters using gradient descent\n",
    "    \n",
    "    Arguments:\n",
    "    parameters -- python dictionary containing your parameters \n",
    "    grads -- python dictionary containing your gradients, output of L_model_backward\n",
    "    \n",
    "    Returns:\n",
    "    parameters -- python dictionary containing your updated parameters \n",
    "                  parameters[\"W\" + str(l)] = ... \n",
    "                  parameters[\"b\" + str(l)] = ...\n",
    "    \"\"\"\n",
    "    L = len(parameters) // 2 # number of layers in the neural network\n",
    "\n",
    "    # Update rule for each parameter. Use a for loop.\n",
    "    for l in range(1,L+1):\n",
    "        parameters['W'+str(l)] -= learning_rate * grads['dW'+str(l)]\n",
    "        parameters['b'+str(l)] -= learning_rate * grads['db'+str(l)]\n",
    "    return parameters"
   ]
  },
  {
   "cell_type": "markdown",
   "metadata": {},
   "source": [
    "**Stochastic gradient descent**\n",
    "\n",
    "We can also apply the SGD algorithm to neural network.  Unlike a fixed learning rate as we considered in convex problems, in SGD setting, it is better to use **adaptive learning rate** with variable step sizes $\\eta_i$. Our attempt will be with fixed learning rate $\\eta$.\n",
    " \n",
    "Other techniques like mini-batch SGD can also be applied. "
   ]
  },
  {
   "cell_type": "markdown",
   "metadata": {},
   "source": [
    "$\\quad $ **mini-batch SGD for MLP**:\n",
    "\n",
    "**Input**: Training dataset $(x_1, y_1), \\ldots, (x_n, y_n)$, batch size, learning rate $\\eta$, number of iterations $\\tau$.\n",
    "\n",
    "**Initialize**: Choose the initial weights $w^{(1)}$ and the biases $b^{(1)}$ at random (from a distribution such that the values are close enough to $0$).\n",
    "\n",
    "**for** $i = 1, 2, 3, \\ldots, \\tau$:\n",
    "\n",
    "$\\quad$ Choose a subset $K$ uniformly at random from $\\{1, 2, \\ldots, n\\}$.\n",
    "\n",
    "$\\quad$ Calculate the gradients $\\nabla_{w^{(i)}}, \\nabla_{b^{(i)}} = \\text{backpropagation}(x_K, y_K, w^{(i)}, b^{(i)})$.\n",
    "\n",
    "$\\quad$ Update \\begin{align} w^{(i+1)} &= w^{(i)} - \\eta (\\nabla_{w^{(i)}} + \\lambda w^{(i)}), \\\\ b^{(i+1)} &= b^{(i)} - \\eta \\nabla_{b^{(i)}}. \\end{align}\n",
    "\n",
    "**return**: parameters $w, b$"
   ]
  },
  {
   "cell_type": "markdown",
   "metadata": {},
   "source": [
    "**Model integration**"
   ]
  },
  {
   "cell_type": "code",
   "execution_count": 58,
   "metadata": {},
   "outputs": [],
   "source": [
    "def shallow_NN_mini_batch_train(X, Y, layers_dims, batch_size = None, learning_rate = 0.1, num_iterations = 3000, print_cost=False, plot=True, seed =None):\n",
    "    \"\"\"\n",
    "    Implements a two-layer neural network: LINEAR->RELU->LINEAR->SOFTMAX.\n",
    "    \n",
    "    Arguments:\n",
    "    X -- input data, of shape (n_x, number of examples)\n",
    "    Y -- true \"label\", of shape (classes, number of examples)\n",
    "    layers_dims -- dimensions of the layers (n_x, n_h, n_y)\n",
    "    num_iterations -- number of iterations of the optimization loop\n",
    "    learning_rate -- learning rate of the gradient descent update rule\n",
    "    print_cost -- If set to True, this will print the cost every 100 iterations \n",
    "    batch_size -- None for all,\n",
    "                  or input at the range of 2 to (number of samples -1)\n",
    "    Returns:\n",
    "    parameters -- a dictionary containing W1, W2, b1, and b2\n",
    "    \"\"\"\n",
    "#     np.random.seed(1)\n",
    "    grads = {}\n",
    "    costs = []                              # to keep track of the cost\n",
    "    m,d = X.shape                           #  number of examples, dimension\n",
    "    (n_x, n_h, n_y) = layers_dims\n",
    "#     batch_sample_size = m//10\n",
    "    \n",
    "    # Initialize parameters dictionary, by calling one of the functions you'd previously implemented\n",
    "    parameters = initialize_parameters(n_x, n_h, n_y)\n",
    "    \n",
    "    # Get W1, b1, W2 and b2 from the dictionary parameters.\n",
    "    W1 = parameters[\"W1\"]\n",
    "    b1 = parameters[\"b1\"]\n",
    "    W2 = parameters[\"W2\"]\n",
    "    b2 = parameters[\"b2\"]\n",
    "    \n",
    "    # Loop (gradient descent)\n",
    "    for i in range(0, num_iterations):\n",
    "        if (batch_size !=None) and (batch_size < m) and (batch_size>1):\n",
    "            sam_set=set()\n",
    "            while len(sam_set)<batch_size:\n",
    "                random_index = np.random.randint(0, m)  \n",
    "                sam_set.add(random_index)\n",
    "\n",
    "            sam_idx = list(sam_set)\n",
    "            X_sam = X[sam_idx,:].T\n",
    "            Y_sam = Y[sam_idx,:].T\n",
    "        else:\n",
    "            X_sam = X.T\n",
    "            Y_sam = Y.T\n",
    "        \n",
    "        # Forward propagation: LINEAR -> RELU -> LINEAR -> SOFTMAX. Inputs: \"X, W1, b1, W2, b2\". Output: \"A1, cache1, A2, cache2\".\n",
    "        A1, cache1 = linear_activation_forward(X_sam, W1, b1, activation='relu')\n",
    "        A2, cache2 = linear_activation_forward(A1, W2, b2, activation='softmax')\n",
    "\n",
    "        # Compute cost\n",
    "        cost = compute_cost(A2, Y_sam)\n",
    "        \n",
    "        # Backward propagation. Inputs: \"dA2, cache2, cache1\". Outputs: \"dA1, dW2, db2; also dA0 (not used), dW1, db1\".\n",
    "        dA1, dW2, db2 = linear_activation_backward(Y_sam, cache2, activation='softmax')\n",
    "        dA0, dW1, db1 = linear_activation_backward(dA1, cache1, activation='relu')\n",
    "        \n",
    "        # Set grads['dWl'] to dW1, grads['db1'] to db1, grads['dW2'] to dW2, grads['db2'] to db2\n",
    "        grads['dW1'] = dW1\n",
    "        grads['db1'] = db1\n",
    "        grads['dW2'] = dW2\n",
    "        grads['db2'] = db2\n",
    "        \n",
    "        # Update parameters.\n",
    "        parameters = update_parameters(parameters, grads, learning_rate)\n",
    "\n",
    "        # Retrieve W1, b1, W2, b2 from parameters\n",
    "        W1 = parameters[\"W1\"]\n",
    "        b1 = parameters[\"b1\"]\n",
    "        W2 = parameters[\"W2\"]\n",
    "        b2 = parameters[\"b2\"]\n",
    "        \n",
    "        # Print the cost every 100 training example\n",
    "        if print_cost and i % 200 == 0:\n",
    "            print(\"Cost after iteration {}: {}\".format(i, np.squeeze(cost)))\n",
    "        if  i % 100 == 0:\n",
    "            costs.append(cost)\n",
    "    \n",
    "    if plot:\n",
    "        # plot the cost\n",
    "        plt.plot(np.squeeze(costs))\n",
    "        plt.ylabel('cross entropy loss')\n",
    "        plt.xlabel('iterations (per hundreds)')\n",
    "        plt.title(\"Learning rate =\" + str(learning_rate))\n",
    "        plt.show()\n",
    "    return parameters"
   ]
  },
  {
   "cell_type": "code",
   "execution_count": 59,
   "metadata": {},
   "outputs": [],
   "source": [
    "def convert_to_onehot(Y, C):\n",
    "    Y = np.eye(C)[Y.reshape(-1)]\n",
    "    return Y"
   ]
  },
  {
   "cell_type": "code",
   "execution_count": 60,
   "metadata": {},
   "outputs": [],
   "source": [
    "def shallow_NN_predict(X, parameters, probablity=True):\n",
    "    \"\"\"\n",
    "    Arguments:\n",
    "    X -- data set of examples you would like to label\n",
    "    parameters -- parameters of the trained model\n",
    "    \n",
    "    Returns:\n",
    "    predict_label -- predictions for the given dataset X\n",
    "    \"\"\"\n",
    "    m,d = X.shape\n",
    "    \n",
    "    W1 = parameters[\"W1\"]\n",
    "    b1 = parameters[\"b1\"]\n",
    "    W2 = parameters[\"W2\"]\n",
    "    b2 = parameters[\"b2\"]\n",
    "    \n",
    "    # Forward propagation\n",
    "    A1, _ = linear_activation_forward(X.T, W1, b1, activation='relu')\n",
    "    probs, _ = linear_activation_forward(A1, W2, b2, activation='softmax')\n",
    "    \n",
    "    if probablity:\n",
    "        return probs\n",
    "    else:\n",
    "        # convert probas to class label\n",
    "        return np.argmax(probs, axis=0)\n",
    "    \n",
    "    #print results\n",
    "    #print (\"predictions: \" + str(p))\n",
    "    #print (\"true labels: \" + str(y))\n",
    "#     print(\"Accuracy: \"  + str(np.sum((predict_label == y)/float(m))))\n",
    "#     return predict_label"
   ]
  },
  {
   "cell_type": "markdown",
   "metadata": {},
   "source": [
    "Now we have finished building all of our models. We need to validation models and find best parameters."
   ]
  },
  {
   "cell_type": "markdown",
   "metadata": {},
   "source": [
    "# Validation\n",
    "**10 Fold**"
   ]
  },
  {
   "cell_type": "code",
   "execution_count": 61,
   "metadata": {},
   "outputs": [],
   "source": [
    "n_fold=10"
   ]
  },
  {
   "cell_type": "markdown",
   "metadata": {},
   "source": [
    "We define the loss function to evaluate how our model performs:\n",
    "+ the 0-1 loss (percentage of wrong labels)\n",
    "\n",
    "Alternatively, one could also try log-loss function, defined as : $ \\tilde{L}(y, y') =   - \\left[ y \\log\\left( y' \\right) + (1 - y) \\log\\left( 1 - y'\\right) \\right], \\quad y\\in \\{0,1\\}, y' \\in (0,1) $"
   ]
  },
  {
   "cell_type": "code",
   "execution_count": 62,
   "metadata": {},
   "outputs": [],
   "source": [
    "def zero_one_loss(y_true, y_pred):\n",
    "    n = y_true.shape[0]\n",
    "    return (1/n) * np.sum(y_true != y_pred)\n",
    "\n",
    "def log_loss(y_true, y_pred):\n",
    "    n = y_true.shape[0]\n",
    "    result = np.zeros(n)\n",
    "    y_zero = y_true == 0\n",
    "    result[y_zero] = -np.log(1-y_pred[y_zero])\n",
    "    y_one = y_true == 1\n",
    "    result[y_one] = -np.log(y_pred[y_one])\n",
    "    return np.mean(result)\n",
    "\n",
    "def error_plot(para_list, train_list, test_list,  x_label):\n",
    "    plt.plot(para_list,train_list, \"blue\", label = \"train error\")\n",
    "    plt.plot(para_list,test_list, \"red\", label = \"test error\")\n",
    "    plt.xlabel(x_label)\n",
    "    plt.ylabel('zero-one Loss')\n",
    "    plt.legend()\n",
    "    plt.show()    \n"
   ]
  },
  {
   "cell_type": "markdown",
   "metadata": {},
   "source": [
    "### Cross Validation for Model 1: Decision Tree \n",
    "In the decision tree model, the hyper-parameters includes max_depth, min_samples_split and etc. The one with the most significant impact is max_depth. The others such as max_leaf_nodes and etc has similar effect as max_depth on controlling the complexity of the model. Thus, we only cross validate the model on max_depth to find the best value.  \n",
    "Recall that we had roughly 248 to 273 sample points in our binary classification problems. Hence, our decision tree should less deep that $\\log_2(273) \\approx 8$."
   ]
  },
  {
   "cell_type": "code",
   "execution_count": 62,
   "metadata": {},
   "outputs": [],
   "source": [
    "max_depth_list = list(range(1,10))\n",
    "max_depth_te_loss = []\n",
    "max_depth_tr_loss = []\n",
    "rkf = KFold(n_splits=n_fold, shuffle=False, random_state=None)\n",
    "for i in max_depth_list:\n",
    "    test_loss=0\n",
    "    train_loss=0\n",
    "    for train_index, test_index in rkf.split(df_train):\n",
    "        cv_train = df_train.iloc[train_index]\n",
    "        cv_test = df_train.iloc[test_index]\n",
    "        DTree_clf_list = myDecisionTreeCLF_train(cv_train, max_depth=i)\n",
    "\n",
    "        cv_train_pred = myDecisionTreeCLF_predict(cv_train, DTree_clf_list,probablity=False)        \n",
    "        cv_test_pred = myDecisionTreeCLF_predict(cv_test, DTree_clf_list,probablity=False)\n",
    "        train_loss += zero_one_loss(cv_train.iloc[:,-1:].values, cv_train_pred.reshape(len(cv_train_pred),1))\n",
    "        test_loss += zero_one_loss(cv_test.iloc[:,-1:].values, cv_test_pred.reshape(len(cv_test_pred),1))\n",
    "    max_depth_te_loss.append(test_loss/n_fold)\n",
    "    max_depth_tr_loss.append(train_loss/n_fold)   "
   ]
  },
  {
   "cell_type": "markdown",
   "metadata": {},
   "source": [
    "**Training and test error plot**"
   ]
  },
  {
   "cell_type": "code",
   "execution_count": 63,
   "metadata": {},
   "outputs": [
    {
     "data": {
      "image/png": "[encoded data removed]",
      "text/plain": [
       "<Figure size 432x288 with 1 Axes>"
      ]
     },
     "metadata": {
      "needs_background": "light"
     },
     "output_type": "display_data"
    }
   ],
   "source": [
    "error_plot(max_depth_list,max_depth_tr_loss,max_depth_te_loss,x_label='max_depth')"
   ]
  },
  {
   "cell_type": "markdown",
   "metadata": {},
   "source": [
    "From our cross validation, the best max_depth is **4**, when the value is increaseing, the model is start to overfit."
   ]
  },
  {
   "cell_type": "markdown",
   "metadata": {},
   "source": [
    "### Cross Validation for Model 2: Random Forest\n",
    "\n",
    "In Random forest, the hyper-parameters we can fine tune includes n_estimators, max_features, max_depth and etc. We pick **n_estimators** and **max_features** here because they are more important than others."
   ]
  },
  {
   "cell_type": "code",
   "execution_count": 63,
   "metadata": {},
   "outputs": [],
   "source": [
    "n_estim_list = list(range(5,35,5))\n",
    "n_estim_tr_loss = []\n",
    "n_estim_te_loss = []\n",
    "rkf = KFold(n_splits=n_fold, shuffle=False, random_state=None)\n",
    "for i in n_estim_list:\n",
    "    train_loss=0\n",
    "    test_loss=0\n",
    "    for train_index, test_index in rkf.split(df_train):\n",
    "        cv_train=df_train.iloc[train_index]\n",
    "        cv_test=df_train.iloc[test_index]\n",
    "        \n",
    "        RF_clf_list = myRandomForestCLF_train(cv_train, n_estimators=i)\n",
    "        RF_tr_pred = myRandomForestCLF_predict(cv_train, RF_clf_list, rf_probablity=False)\n",
    "        RF_te_pred = myRandomForestCLF_predict(cv_test, RF_clf_list, rf_probablity=False)        \n",
    "        train_loss +=zero_one_loss(cv_train.iloc[:,-1:].values, RF_tr_pred.reshape(len(RF_tr_pred),1))\n",
    "        test_loss += zero_one_loss(cv_test.iloc[:,-1:].values, RF_te_pred.reshape(len(RF_te_pred),1))\n",
    "    n_estim_tr_loss.append(train_loss/n_fold)\n",
    "    n_estim_te_loss.append(test_loss/n_fold)"
   ]
  },
  {
   "cell_type": "markdown",
   "metadata": {},
   "source": [
    "**Training and test error plot**"
   ]
  },
  {
   "cell_type": "code",
   "execution_count": 65,
   "metadata": {},
   "outputs": [
    {
     "data": {
      "image/png": "[encoded data removed]",
      "text/plain": [
       "<Figure size 432x288 with 1 Axes>"
      ]
     },
     "metadata": {
      "needs_background": "light"
     },
     "output_type": "display_data"
    }
   ],
   "source": [
    "error_plot(n_estim_list, n_estim_tr_loss,n_estim_te_loss,x_label='n_estimators')"
   ]
  },
  {
   "cell_type": "markdown",
   "metadata": {},
   "source": [
    "The best n_estimator is **15**, when the value is increaseing, the model is start to overfit."
   ]
  },
  {
   "cell_type": "code",
   "execution_count": 64,
   "metadata": {},
   "outputs": [],
   "source": [
    "max_feature_list = list(range(3,13))\n",
    "max_feature_tr_loss = []\n",
    "max_feature_te_loss = []\n",
    "rkf = KFold(n_splits=n_fold, shuffle=False, random_state=None)\n",
    "for i in max_feature_list:\n",
    "    train_loss=0\n",
    "    test_loss=0\n",
    "    for train_index, test_index in rkf.split(df_train):\n",
    "        cv_train=df_train.iloc[train_index]\n",
    "        cv_test=df_train.iloc[test_index]\n",
    "        \n",
    "        RF_clf_list = myRandomForestCLF_train(cv_train,n_estimators=10, max_features=i)\n",
    "        RF_tr_pred = myRandomForestCLF_predict(cv_train, RF_clf_list, rf_probablity=False)\n",
    "        RF_te_pred = myRandomForestCLF_predict(cv_test, RF_clf_list, rf_probablity=False)        \n",
    "        train_loss +=zero_one_loss(cv_train.iloc[:,-1:].values, RF_tr_pred.reshape(len(RF_tr_pred),1))\n",
    "        test_loss += zero_one_loss(cv_test.iloc[:,-1:].values, RF_te_pred.reshape(len(RF_te_pred),1))\n",
    "    max_feature_tr_loss.append(train_loss/n_fold)\n",
    "    max_feature_te_loss.append(test_loss/n_fold)"
   ]
  },
  {
   "cell_type": "markdown",
   "metadata": {},
   "source": [
    "**Training and test error plot**"
   ]
  },
  {
   "cell_type": "code",
   "execution_count": 67,
   "metadata": {},
   "outputs": [
    {
     "data": {
      "image/png": "[encoded data removed]",
      "text/plain": [
       "<Figure size 432x288 with 1 Axes>"
      ]
     },
     "metadata": {
      "needs_background": "light"
     },
     "output_type": "display_data"
    }
   ],
   "source": [
    "error_plot(max_feature_list, max_feature_tr_loss,max_feature_te_loss,x_label='max_feature')"
   ]
  },
  {
   "cell_type": "markdown",
   "metadata": {},
   "source": [
    "The best max_features is **7**, when the value is increaseing, the model is start to overfit."
   ]
  },
  {
   "cell_type": "markdown",
   "metadata": {},
   "source": [
    "If one is using sklearn to cross validate on **multiple parameter combinations**, the GridSearchCV method is recommended. In our case, it is not neccessary. "
   ]
  },
  {
   "cell_type": "code",
   "execution_count": 65,
   "metadata": {},
   "outputs": [],
   "source": [
    "# from sklearn.model_selection import GridSearchCV\n",
    "\n",
    "# # Create the parameter grid based on the results of random search \n",
    "# param_grid = {\n",
    "#     'bootstrap': [True],\n",
    "#     'max_depth': [80, 90, 100, 110],\n",
    "#     'max_features': [5, 10],\n",
    "#     'n_estimators': [100, 200, 300, 1000]\n",
    "# }\n",
    "\n",
    "# # Create a based model\n",
    "# rf = RandomForestRegressor()\n",
    "\n",
    "# # Instantiate the grid search model\n",
    "# grid_search = GridSearchCV(estimator = rf, param_grid = param_grid, \n",
    "#                           cv = 3, n_jobs = -1, verbose = 2)"
   ]
  },
  {
   "cell_type": "markdown",
   "metadata": {},
   "source": [
    "### Cross Validation for Model 3: GradientBoosting\n",
    "In GradientBoosting, hyperparameters includes **min_samples_split**, **max_depth**, **n_estimators** and etc.    Since GradientBoosting classifier is similar to Random Forest to some extend, we will just fine tune on **n_estimators** to compare how the results differ between bagging and boosting strategy. "
   ]
  },
  {
   "cell_type": "code",
   "execution_count": 66,
   "metadata": {},
   "outputs": [],
   "source": [
    "n_estim_list = list(range(10, 100, 10))\n",
    "n_estim_te_loss = []\n",
    "n_estim_tr_loss = []\n",
    "rkf = KFold(n_splits=n_fold, shuffle=False, random_state=None)\n",
    "for i in n_estim_list:\n",
    "    test_loss=0\n",
    "    train_loss=0\n",
    "    for train_index, test_index in rkf.split(df_train):\n",
    "        cv_train = df_train.iloc[train_index]\n",
    "        cv_test = df_train.iloc[test_index]\n",
    "        GB_clf_list = myGradientBoostingCLF_train(cv_train, n_estimators=i)\n",
    "\n",
    "        GB_train_pred = myGradientBoostingCLF_predict(cv_train, GB_clf_list,probablity=False)        \n",
    "        GB_test_pred = myGradientBoostingCLF_predict(cv_test, GB_clf_list,probablity=False)\n",
    "        \n",
    "        train_loss += zero_one_loss(cv_train.iloc[:,-1:].values, GB_train_pred.reshape(len(GB_train_pred),1))\n",
    "        test_loss += zero_one_loss(cv_test.iloc[:,-1:].values, GB_test_pred.reshape(len(GB_test_pred),1))\n",
    "    n_estim_te_loss.append(test_loss/n_fold)\n",
    "    n_estim_tr_loss.append(train_loss/n_fold)   "
   ]
  },
  {
   "cell_type": "markdown",
   "metadata": {},
   "source": [
    "**Training and test error plot**"
   ]
  },
  {
   "cell_type": "code",
   "execution_count": 70,
   "metadata": {},
   "outputs": [
    {
     "data": {
      "image/png": "[encoded data removed]",
      "text/plain": [
       "<Figure size 432x288 with 1 Axes>"
      ]
     },
     "metadata": {
      "needs_background": "light"
     },
     "output_type": "display_data"
    }
   ],
   "source": [
    "error_plot(n_estim_list, n_estim_tr_loss,n_estim_te_loss,x_label='n_estimators')"
   ]
  },
  {
   "cell_type": "markdown",
   "metadata": {},
   "source": [
    "From our cross validation, we can see that the best n_estimators is **30**, when the value is increaseing, the model is start to overfit."
   ]
  },
  {
   "cell_type": "markdown",
   "metadata": {},
   "source": [
    "### Cross Validation for Model 4: Support Vector Machine(SVM)\n",
    "In Support Vector Machine, hyperparameters includes C(regularization) , kernel and etc. **We directly choose 'rbf' kernel** because our data set is not very large. Therefore, only C is cross-validated here."
   ]
  },
  {
   "cell_type": "code",
   "execution_count": 67,
   "metadata": {},
   "outputs": [],
   "source": [
    "c_list = [0.0001,0.001,0.01,1,10,100,1000]\n",
    "c_te_loss = []\n",
    "c_tr_loss = []\n",
    "rkf = KFold(n_splits=n_fold, shuffle=False, random_state=None)\n",
    "for i in c_list:\n",
    "    test_loss=0\n",
    "    train_loss=0\n",
    "    for train_index, test_index in rkf.split(df_train_scale):\n",
    "        cv_train = df_train_scale.iloc[train_index]\n",
    "        cv_test = df_train_scale.iloc[test_index]\n",
    "        SVM_clf_list = mySVMCLF_train(cv_train, C =i)\n",
    "\n",
    "        SVM_train_pred = mySVMCLF_predict(cv_train, SVM_clf_list,probablity=False)        \n",
    "        SVM_test_pred = mySVMCLF_predict(cv_test, SVM_clf_list,probablity=False)\n",
    "\n",
    "        train_loss += zero_one_loss(cv_train.iloc[:,-1:].values, SVM_train_pred.reshape(len(SVM_train_pred),1))\n",
    "        test_loss += zero_one_loss(cv_test.iloc[:,-1:].values, SVM_test_pred.reshape(len(SVM_test_pred),1))\n",
    "    c_te_loss.append(test_loss/n_fold)\n",
    "    c_tr_loss.append(train_loss/n_fold)   "
   ]
  },
  {
   "cell_type": "markdown",
   "metadata": {},
   "source": [
    "**Training and test error plot**"
   ]
  },
  {
   "cell_type": "code",
   "execution_count": 72,
   "metadata": {},
   "outputs": [
    {
     "data": {
      "image/png": "[encoded data removed]",
      "text/plain": [
       "<Figure size 432x288 with 1 Axes>"
      ]
     },
     "metadata": {
      "needs_background": "light"
     },
     "output_type": "display_data"
    }
   ],
   "source": [
    "error_plot(c_list, c_tr_loss,c_te_loss,x_label='C')"
   ]
  },
  {
   "cell_type": "markdown",
   "metadata": {},
   "source": [
    "From our cross validation, the best C is **1**, when the value is increaseing, the model is start to overfit."
   ]
  },
  {
   "cell_type": "markdown",
   "metadata": {},
   "source": [
    "### Cross Validation for Model 5: K-nearest neighbors(KNN)\n",
    "\n",
    "In the K-nearest neighbors model, K is the primary hyper-parameter to tune. K is better to be odd number. If k is an even number, the exact class of the new point is difficult to predict when its two neighbors are disagree with each other."
   ]
  },
  {
   "cell_type": "code",
   "execution_count": 68,
   "metadata": {},
   "outputs": [],
   "source": [
    "neighbors_list = [3,5,7,9,11,15,21]\n",
    "neighbors_te_loss = []\n",
    "neighbors_tr_loss = []\n",
    "rkf = KFold(n_splits=n_fold, shuffle=False, random_state=None)\n",
    "for i in neighbors_list:\n",
    "    test_loss=0\n",
    "    train_loss=0\n",
    "    for train_index, test_index in rkf.split(df_train_scale):\n",
    "        cv_train = df_train_scale.iloc[train_index]\n",
    "        cv_test = df_train_scale.iloc[test_index]\n",
    "        KNN_clf_list = myKNNCLF_train(cv_train, n_neighbors=i)\n",
    "\n",
    "        KNN_train_pred = myKNNCLF_predict(cv_train, KNN_clf_list, probablity=False)        \n",
    "        KNN_test_pred = myKNNCLF_predict(cv_test, KNN_clf_list, probablity=False)\n",
    "        train_loss += zero_one_loss(cv_train.iloc[:,-1:].values, KNN_train_pred.reshape(len(KNN_train_pred),1))\n",
    "        test_loss += zero_one_loss(cv_test.iloc[:,-1:].values, KNN_test_pred.reshape(len(KNN_test_pred),1))\n",
    "    neighbors_te_loss.append(test_loss/n_fold)\n",
    "    neighbors_tr_loss.append(train_loss/n_fold)   "
   ]
  },
  {
   "cell_type": "markdown",
   "metadata": {},
   "source": [
    "**Training and test error plot**"
   ]
  },
  {
   "cell_type": "code",
   "execution_count": 74,
   "metadata": {},
   "outputs": [
    {
     "data": {
      "image/png": "[encoded data removed]",
      "text/plain": [
       "<Figure size 432x288 with 1 Axes>"
      ]
     },
     "metadata": {
      "needs_background": "light"
     },
     "output_type": "display_data"
    }
   ],
   "source": [
    "error_plot(neighbors_list,neighbors_tr_loss,neighbors_te_loss,x_label='k_neighbors')"
   ]
  },
  {
   "cell_type": "markdown",
   "metadata": {},
   "source": [
    "From our cross validation, we can see that the best n_neighbors is **5**, when the value is increaseing, the model is start to overfit."
   ]
  },
  {
   "cell_type": "markdown",
   "metadata": {},
   "source": [
    "### Cross Validation for Model 6: Logistic Regression\n",
    "In logistic regression, the hyperparameters we need to tune is regularization parameter C, $C = \\frac{1}{\\lambda}$.\n",
    "The smaller the C, the stronger the effect of regularization; the bigger the C, the poor the effect of regularization."
   ]
  },
  {
   "cell_type": "code",
   "execution_count": 69,
   "metadata": {},
   "outputs": [],
   "source": [
    "regular_list = [0.0001,0.001,0.01,1,10,100,1000]\n",
    "regular_te_loss = []\n",
    "regular_tr_loss = []\n",
    "rkf = KFold(n_splits=n_fold, shuffle=False, random_state=None)\n",
    "for i in regular_list:\n",
    "    test_loss=0\n",
    "    train_loss=0\n",
    "    for train_index, test_index in rkf.split(df_train_scale):\n",
    "        cv_train = df_train_scale.iloc[train_index]\n",
    "        cv_test = df_train_scale.iloc[test_index]\n",
    "        LR_clf_list = myLogisticRCLF_train(cv_train, C=i)\n",
    "\n",
    "        LR_train_pred = myLogisticRCLF_predict(cv_train, LR_clf_list, probablity=False)        \n",
    "        LR_test_pred = myLogisticRCLF_predict(cv_test, LR_clf_list, probablity=False)\n",
    "        train_loss += zero_one_loss(cv_train.iloc[:,-1:].values, LR_train_pred.reshape(len(LR_train_pred),1))\n",
    "        test_loss += zero_one_loss(cv_test.iloc[:,-1:].values, LR_test_pred.reshape(len(LR_test_pred),1))\n",
    "    regular_te_loss.append(test_loss/n_fold)\n",
    "    regular_tr_loss.append(train_loss/n_fold)   "
   ]
  },
  {
   "cell_type": "markdown",
   "metadata": {},
   "source": [
    "**Training and test error plot**"
   ]
  },
  {
   "cell_type": "code",
   "execution_count": 76,
   "metadata": {
    "scrolled": false
   },
   "outputs": [
    {
     "data": {
      "image/png": "[encoded data removed]",
      "text/plain": [
       "<Figure size 432x288 with 1 Axes>"
      ]
     },
     "metadata": {
      "needs_background": "light"
     },
     "output_type": "display_data"
    }
   ],
   "source": [
    "error_plot(regular_list,regular_tr_loss,regular_te_loss,x_label='k_neighbors')"
   ]
  },
  {
   "cell_type": "markdown",
   "metadata": {},
   "source": [
    "From our cross validation, we can see that the best C is **1**."
   ]
  },
  {
   "cell_type": "markdown",
   "metadata": {},
   "source": [
    "### Cross Validation for Model 7: Neural Network"
   ]
  },
  {
   "cell_type": "markdown",
   "metadata": {},
   "source": [
    "we basically interested in these hyperparameters: **network architecture**, **learning rate** and **number of iterations**.\n",
    "\n",
    "we use Data set:**df_train_scale** and **df_test_scale** and convert label into one-hot encoding before input into our network."
   ]
  },
  {
   "cell_type": "code",
   "execution_count": 63,
   "metadata": {},
   "outputs": [
    {
     "data": {
      "text/plain": [
       "((392, 13), (392, 3))"
      ]
     },
     "execution_count": 63,
     "metadata": {},
     "output_type": "execute_result"
    }
   ],
   "source": [
    "X_scale_tr = df_train_scale.iloc[:,:-1].values\n",
    "Y_tr = df_train_scale.iloc[:,-1:].values\n",
    "Y_tr_OH = convert_to_onehot(Y_tr.astype(int),3)\n",
    "(X_scale_tr.shape , Y_tr_OH.shape)"
   ]
  },
  {
   "cell_type": "markdown",
   "metadata": {},
   "source": [
    "learning rate: **small vs medium vs large**"
   ]
  },
  {
   "cell_type": "code",
   "execution_count": 69,
   "metadata": {
    "scrolled": false
   },
   "outputs": [
    {
     "data": {
      "image/png": "[encoded data removed]",
      "text/plain": [
       "<Figure size 432x288 with 1 Axes>"
      ]
     },
     "metadata": {
      "needs_background": "light"
     },
     "output_type": "display_data"
    },
    {
     "name": "stdout",
     "output_type": "stream",
     "text": [
      "time: 2.092231035232544\n"
     ]
    },
    {
     "data": {
      "image/png": "[encoded data removed]",
      "text/plain": [
       "<Figure size 432x288 with 1 Axes>"
      ]
     },
     "metadata": {
      "needs_background": "light"
     },
     "output_type": "display_data"
    },
    {
     "name": "stdout",
     "output_type": "stream",
     "text": [
      "time: 2.085754871368408\n"
     ]
    },
    {
     "data": {
      "image/png": "[encoded data removed]",
      "text/plain": [
       "<Figure size 432x288 with 1 Axes>"
      ]
     },
     "metadata": {
      "needs_background": "light"
     },
     "output_type": "display_data"
    },
    {
     "name": "stdout",
     "output_type": "stream",
     "text": [
      "time: 2.823997974395752\n"
     ]
    }
   ],
   "source": [
    "lr_list = [0.001,0.1,5]\n",
    "for lr in lr_list:\n",
    "    start = time.time()\n",
    "    paras = shallow_NN_mini_batch_train(X_scale_tr, Y_tr_OH, batch_size = 100,learning_rate = lr,\n",
    "                                    layers_dims = (13, 80, 3), num_iterations = 3000, print_cost=False)\n",
    "    print(\"time:\",time.time()-start)"
   ]
  },
  {
   "cell_type": "markdown",
   "metadata": {},
   "source": [
    "Small learning rate may converge slowly, but large learning rate might oversight. **We set our learning_rate at 0.1**."
   ]
  },
  {
   "cell_type": "code",
   "execution_count": 79,
   "metadata": {
    "scrolled": false
   },
   "outputs": [
    {
     "data": {
      "image/png": "[encoded data removed]",
      "text/plain": [
       "<Figure size 432x288 with 1 Axes>"
      ]
     },
     "metadata": {
      "needs_background": "light"
     },
     "output_type": "display_data"
    },
    {
     "name": "stdout",
     "output_type": "stream",
     "text": [
      "time: 0.3668339252471924\n"
     ]
    },
    {
     "data": {
      "image/png": "[encoded data removed]",
      "text/plain": [
       "<Figure size 432x288 with 1 Axes>"
      ]
     },
     "metadata": {
      "needs_background": "light"
     },
     "output_type": "display_data"
    },
    {
     "name": "stdout",
     "output_type": "stream",
     "text": [
      "time: 0.751378059387207\n"
     ]
    },
    {
     "data": {
      "image/png": "[encoded data removed]",
      "text/plain": [
       "<Figure size 432x288 with 1 Axes>"
      ]
     },
     "metadata": {
      "needs_background": "light"
     },
     "output_type": "display_data"
    },
    {
     "name": "stdout",
     "output_type": "stream",
     "text": [
      "time: 1.1131410598754883\n"
     ]
    },
    {
     "data": {
      "image/png": "[encoded data removed]",
      "text/plain": [
       "<Figure size 432x288 with 1 Axes>"
      ]
     },
     "metadata": {
      "needs_background": "light"
     },
     "output_type": "display_data"
    },
    {
     "name": "stdout",
     "output_type": "stream",
     "text": [
      "time: 1.3686668872833252\n"
     ]
    },
    {
     "data": {
      "image/png": "[encoded data removed]",
      "text/plain": [
       "<Figure size 432x288 with 1 Axes>"
      ]
     },
     "metadata": {
      "needs_background": "light"
     },
     "output_type": "display_data"
    },
    {
     "name": "stdout",
     "output_type": "stream",
     "text": [
      "time: 1.605848789215088\n"
     ]
    },
    {
     "data": {
      "image/png": "[encoded data removed]",
      "text/plain": [
       "<Figure size 432x288 with 1 Axes>"
      ]
     },
     "metadata": {
      "needs_background": "light"
     },
     "output_type": "display_data"
    },
    {
     "name": "stdout",
     "output_type": "stream",
     "text": [
      "time: 2.1260411739349365\n"
     ]
    }
   ],
   "source": [
    "# number of iterations\n",
    "iter_list = [200,500,1000,1500,2000,3000]\n",
    "for itr in iter_list:\n",
    "    start = time.time()\n",
    "    paras = shallow_NN_mini_batch_train(X_scale_tr, Y_tr_OH, batch_size = 100,learning_rate = 0.1,\n",
    "                                    layers_dims = (13, 80, 3), num_iterations = itr, print_cost=False)\n",
    "    print(\"time:\",time.time()-start)"
   ]
  },
  {
   "cell_type": "markdown",
   "metadata": {},
   "source": [
    "It does not mean that large iteration is necessarily better.  Usually, large iteration will lead to overfit. However, if the iteration is too small, the network will not learn well. From the graph, **set iterations as 1000 is enough**."
   ]
  },
  {
   "cell_type": "markdown",
   "metadata": {},
   "source": [
    "**network architecture: number of neurons in the hidden layer**"
   ]
  },
  {
   "cell_type": "code",
   "execution_count": 98,
   "metadata": {
    "scrolled": true
   },
   "outputs": [
    {
     "name": "stdout",
     "output_type": "stream",
     "text": [
      "architecture is: (13, 5, 3)\n",
      "architecture is: (13, 50, 3)\n",
      "architecture is: (13, 200, 3)\n",
      "architecture is: (13, 500, 3)\n",
      "architecture is: (13, 800, 3)\n",
      "architecture is: (13, 1200, 3)\n",
      "architecture is: (13, 1600, 3)\n",
      "architecture is: (13, 2200, 3)\n",
      "architecture is: (13, 3000, 3)\n"
     ]
    }
   ],
   "source": [
    "architecture_list = [(13, 5, 3),(13, 50, 3),(13, 200, 3),\n",
    "                     (13, 500, 3),(13, 800, 3),(13, 1200, 3),\n",
    "                     (13, 1600, 3),(13, 2200, 3),(13, 3000, 3)]\n",
    "arch_te_loss = []\n",
    "arch_tr_loss = []\n",
    "rkf = KFold(n_splits=n_fold, shuffle=False, random_state=None)\n",
    "neurons_list=[]\n",
    "for arch in architecture_list:\n",
    "    print(\"architecture is:\",arch)\n",
    "    neurons_list.append(arch[1])\n",
    "    test_loss=0\n",
    "    train_loss=0\n",
    "    for train_index, test_index in rkf.split(X_scale_tr):\n",
    "        cv_train = X_scale_tr[train_index]\n",
    "        cv_Y_tr_OH = Y_tr_OH[train_index]\n",
    "        cv_test = X_scale_tr[test_index]\n",
    "        cv_Y_te_OH = Y_tr_OH[test_index]\n",
    "        NNclf = shallow_NN_mini_batch_train(cv_train, cv_Y_tr_OH, batch_size = 100,learning_rate = 0.1,\n",
    "                                    layers_dims = arch, num_iterations = 1000, print_cost=False, plot= False)\n",
    "        NN_train_pred = shallow_NN_predict(cv_train, NNclf, probablity=False)\n",
    "        NN_test_pred = shallow_NN_predict(cv_test, NNclf, probablity=False)\n",
    "        train_loss += zero_one_loss(Y_tr[train_index], NN_train_pred.reshape(len(NN_train_pred),1))\n",
    "        test_loss += zero_one_loss(Y_tr[test_index], NN_test_pred.reshape(len(NN_test_pred),1))\n",
    "    arch_tr_loss.append(train_loss/n_fold)\n",
    "    arch_te_loss.append(test_loss/n_fold)   "
   ]
  },
  {
   "cell_type": "markdown",
   "metadata": {},
   "source": [
    "**Training and test error plot**"
   ]
  },
  {
   "cell_type": "code",
   "execution_count": 99,
   "metadata": {},
   "outputs": [
    {
     "data": {
      "image/png": "[encoded data removed]",
      "text/plain": [
       "<Figure size 432x288 with 1 Axes>"
      ]
     },
     "metadata": {
      "needs_background": "light"
     },
     "output_type": "display_data"
    }
   ],
   "source": [
    "error_plot(neurons_list,arch_tr_loss,arch_te_loss,x_label='neurons')"
   ]
  },
  {
   "cell_type": "markdown",
   "metadata": {},
   "source": [
    "It does not mean that more neurons is necessarily better.  Usually, more neurons will lead to overfit. However, fewer neurons may not be sufficiently representative. From the graph, **set 200 neurons in the hidden layer should be enough**."
   ]
  },
  {
   "cell_type": "markdown",
   "metadata": {},
   "source": [
    "# Testing\n",
    "After Cross validation, we will predict our optimized models on the test set and see how each model performs. "
   ]
  },
  {
   "cell_type": "code",
   "execution_count": 82,
   "metadata": {},
   "outputs": [],
   "source": [
    "X_scale_tr = df_train_scale.iloc[:,:-1].values\n",
    "Y_tr = df_train_scale.iloc[:,-1:].values\n",
    "Y_tr_OH = convert_to_onehot(Y_tr.astype(int),3)\n",
    "X_scale_te = df_test_scale.iloc[:,:-1].values\n",
    "Y_te = df_test_scale.iloc[:,-1:].values\n",
    "Y_te_OH = convert_to_onehot(Y_te.astype(int),3)"
   ]
  },
  {
   "cell_type": "code",
   "execution_count": 89,
   "metadata": {},
   "outputs": [],
   "source": [
    "NNclf = shallow_NN_mini_batch_train(X_scale_tr, Y_tr_OH, batch_size = 100,learning_rate = 0.1,\n",
    "                                    layers_dims = (13,500,3), num_iterations = 1000, print_cost=False, plot= False)\n",
    "NN_pred_prob = shallow_NN_predict(X_scale_te, NNclf, probablity=True)\n",
    "NN_pred = shallow_NN_predict(X_scale_te, NNclf, probablity=False)\n",
    "NN_loss = zero_one_loss(Y_te, NN_pred.reshape(len(NN_pred),1))"
   ]
  },
  {
   "cell_type": "code",
   "execution_count": 77,
   "metadata": {
    "scrolled": true
   },
   "outputs": [],
   "source": [
    "DTree_clf_list = myDecisionTreeCLF_train(df_train, max_depth=4)\n",
    "DTree_pred_prob = myDecisionTreeCLF_predict(df_test,DTree_clf_list,probablity=True)\n",
    "DTree_pred = myDecisionTreeCLF_predict(df_test,DTree_clf_list,probablity=False)\n",
    "DTree_loss = zero_one_loss(df_test.iloc[:,-1:].values, DTree_pred.reshape(len(DTree_pred),1))\n",
    "\n",
    "RF_clf_list = myRandomForestCLF_train(df_train, n_estimators=15, max_features=7)\n",
    "RF_pred_prob = myRandomForestCLF_predict(df_test, RF_clf_list,rf_probablity=True)\n",
    "RF_pred = myRandomForestCLF_predict(df_test, RF_clf_list,rf_probablity=False)\n",
    "RF_loss = zero_one_loss(df_test.iloc[:,-1:].values, RF_pred.reshape(len(RF_pred),1))\n",
    "\n",
    "GB_clf_list = myGradientBoostingCLF_train(df_train, n_estimators=30)\n",
    "GB_pred_prob = myGradientBoostingCLF_predict(df_test,GB_clf_list,probablity=True)\n",
    "GB_pred = myGradientBoostingCLF_predict(df_test,GB_clf_list,probablity=False)\n",
    "GB_loss = zero_one_loss(df_test.iloc[:,-1:].values, GB_pred.reshape(len(GB_pred),1))\n",
    "\n",
    "SVM_clf_list = mySVMCLF_train(df_train_scale, C = 1)\n",
    "SVM_pred_prob = mySVMCLF_predict(df_test_scale,SVM_clf_list,probablity=True)                                       \n",
    "SVM_pred = mySVMCLF_predict(df_test_scale,SVM_clf_list,probablity=False)\n",
    "SVM_loss = zero_one_loss(df_test_scale.iloc[:,-1:].values, SVM_pred.reshape(len(SVM_pred),1))\n",
    "\n",
    "KNN_clf_list = myKNNCLF_train(df_train_scale, n_neighbors = 5)\n",
    "KNN_pred_prob = myKNNCLF_predict(df_test_scale,KNN_clf_list,probablity=True)                                       \n",
    "KNN_pred = myKNNCLF_predict(df_test_scale,KNN_clf_list,probablity=False)\n",
    "KNN_loss = zero_one_loss(df_test_scale.iloc[:,-1:].values, KNN_pred.reshape(len(KNN_pred),1))\n",
    "\n",
    "LR_clf_list = myLogisticRCLF_train(df_train_scale, C= 1.0)\n",
    "LR_pred_prob = myLogisticRCLF_predict(df_test_scale, LR_clf_list,probablity=True)                                       \n",
    "LR_pred = myLogisticRCLF_predict(df_test_scale, LR_clf_list,probablity=False)\n",
    "LR_loss = zero_one_loss(df_test_scale.iloc[:,-1:].values, LR_pred.reshape(len(LR_pred),1))"
   ]
  },
  {
   "cell_type": "code",
   "execution_count": 102,
   "metadata": {},
   "outputs": [
    {
     "name": "stdout",
     "output_type": "stream",
     "text": [
      "The losses for each model are:\n",
      " [0.030612244897959183, 0.04081632653061224, 0.030612244897959183, 0.061224489795918366, 0.1020408163265306, 0.07142857142857142, 0.061224489795918366]\n"
     ]
    }
   ],
   "source": [
    "print('The losses for each model are:\\n',[DTree_loss, RF_loss, GB_loss, SVM_loss, KNN_loss, LR_loss,NN_loss])"
   ]
  },
  {
   "cell_type": "markdown",
   "metadata": {},
   "source": [
    "#### Ensemble Learning\n",
    "Ensemble learning helps improve machine learning results by combining several models. This approach allows the production of better predictive performance compared to a single model.  \n",
    "Since we already have 7 classifiers, we can ensemable them and see if it produce better result."
   ]
  },
  {
   "cell_type": "markdown",
   "metadata": {},
   "source": [
    "**Soft Vote**"
   ]
  },
  {
   "cell_type": "code",
   "execution_count": 103,
   "metadata": {},
   "outputs": [
    {
     "name": "stdout",
     "output_type": "stream",
     "text": [
      "Ensemble train 0-1 loss: 0.04081632653061224\n"
     ]
    }
   ],
   "source": [
    "ensemble_pred_prob = np.divide((DTree_pred_prob + RF_pred_prob+ GB_pred_prob + SVM_pred_prob \n",
    "                                       + KNN_pred_prob + LR_pred_prob+NN_pred_prob.T),7)\n",
    "ensemble_pred = np.argmax(ensemble_pred_prob, axis = 1)    \n",
    "Ensemble_soft_loss = zero_one_loss(df_test_scale.iloc[:,-1:].values, ensemble_pred.reshape(len(ensemble_pred),1))\n",
    "print('Ensemble train 0-1 loss:', Ensemble_soft_loss)"
   ]
  },
  {
   "cell_type": "markdown",
   "metadata": {},
   "source": [
    "**Hard Vote**"
   ]
  },
  {
   "cell_type": "code",
   "execution_count": 104,
   "metadata": {},
   "outputs": [
    {
     "name": "stdout",
     "output_type": "stream",
     "text": [
      "Ensemble train 0-1 loss: 0.0510204081632653\n"
     ]
    }
   ],
   "source": [
    "ensemble_pred_vote = np.divide((convert_to_onehot(DTree_pred,3) + \n",
    "                                convert_to_onehot(RF_pred,3) +\n",
    "                                convert_to_onehot(GB_pred,3) +\n",
    "                                convert_to_onehot(SVM_pred,3) +\n",
    "                                convert_to_onehot(KNN_pred,3) +\n",
    "                                convert_to_onehot(LR_pred,3) +\n",
    "                                convert_to_onehot(NN_pred.T,3)),7) \n",
    "ensemble_label=np.argmax(ensemble_pred_vote, axis = 1)  \n",
    "Ensemble_hard_loss = zero_one_loss(df_test_scale.iloc[:,-1:].values, ensemble_label.reshape(len(ensemble_label),1))\n",
    "print('Ensemble train 0-1 loss:', Ensemble_hard_loss)"
   ]
  },
  {
   "cell_type": "markdown",
   "metadata": {},
   "source": [
    "# Conclusion"
   ]
  },
  {
   "cell_type": "code",
   "execution_count": 107,
   "metadata": {},
   "outputs": [
    {
     "data": {
      "image/png": "[encoded data removed]",
      "text/plain": [
       "<Figure size 936x576 with 1 Axes>"
      ]
     },
     "metadata": {
      "needs_background": "light"
     },
     "output_type": "display_data"
    }
   ],
   "source": [
    "objects = ('DTree', 'RForest', 'GB', 'SVM', 'KNN', 'LR','NN', 'ensemble.soft','ensemble.hard')\n",
    "x_pos = np.arange(len(objects)) \n",
    "loss = [DTree_loss, RF_loss, GB_loss, SVM_loss, KNN_loss, LR_loss,NN_loss, Ensemble_soft_loss,Ensemble_hard_loss]\n",
    "\n",
    "plt.figure(figsize=(13,8))\n",
    "\n",
    "plt.bar(x_pos, loss, align = 'center', alpha=0.8)\n",
    "for clf, res in zip(x_pos, loss):\n",
    "    plt.text(clf, res, '%.4f'%res, ha='center', va='bottom', fontsize=10)\n",
    "\n",
    "plt.xticks(x_pos, objects)\n",
    "plt.ylabel('Loss')\n",
    "plt.title('Classifier comparison')\n",
    "\n",
    "plt.show()"
   ]
  },
  {
   "cell_type": "markdown",
   "metadata": {},
   "source": [
    "The above graph shows the final loss of our models. From our result, decision tree and gradient boosting perform the best. The losses are the same: 0.0306. The worst is KNN, which is 0.1327. Ensemble classifiers are better than average. The results of soft voting(0.0510) and hard voting(0.0408) are slightly different but both better than average."
   ]
  }
 ],
 "metadata": {
  "kernelspec": {
   "display_name": "Python 3",
   "language": "python",
   "name": "python3"
  },
  "language_info": {
   "codemirror_mode": {
    "name": "ipython",
    "version": 3
   },
   "file_extension": ".py",
   "mimetype": "text/x-python",
   "name": "python",
   "nbconvert_exporter": "python",
   "pygments_lexer": "ipython3",
   "version": "3.7.3"
  }
 },
 "nbformat": 4,
 "nbformat_minor": 1
}
